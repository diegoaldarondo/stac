{
 "cells": [
  {
   "cell_type": "code",
   "execution_count": null,
   "metadata": {},
   "outputs": [],
   "source": [
    "import util\n",
    "import stac\n",
    "from dm_control import mujoco\n",
    "from dm_control import mjcf\n",
    "from dm_control import suite\n",
    "from dm_control import viewer\n",
    "from dm_control import composer\n",
    "from dm_control.rl import control\n",
    "from dm_control.locomotion.walkers import base\n",
    "import multiprocessing as mp\n",
    "\n",
    "from dm_control.mujoco.wrapper.mjbindings import mjlib\n",
    "import numpy as np\n",
    "import matplotlib\n",
    "%matplotlib notebook\n",
    "import matplotlib.pyplot as plt\n",
    "from matplotlib import animation, rc\n",
    "from IPython.display import HTML\n",
    "import imp \n",
    "import rodent_environments\n",
    "imp.reload(util)\n",
    "imp.reload(rodent_environments)\n",
    "imp.reload(stac)\n",
    "import pyyaml"
   ]
  },
  {
   "cell_type": "code",
   "execution_count": 22,
   "metadata": {},
   "outputs": [],
   "source": [
    "import yaml\n",
    "out_path = \"./params/JDM25.yaml\"\n",
    "LEFT_LEG = \"0 0 .3 1\"\n",
    "RIGHT_LEG = \".3 0 0 1\"\n",
    "LEFT_ARM = \"0 0 .8 1\"\n",
    "RIGHT_ARM = \".8 0 0 1\"\n",
    "HEAD = \".8 .8 0 1\"\n",
    "SPINE = \".8 .8 .8 1\"\n",
    "data = dict(\n",
    "    _XML_PATH = '/home/diego/code/olveczky/dm/stac/models/rat_may17.xml',\n",
    "    _PARTS_TO_ZERO = ['toe', 'ankle', 'finger', 'wrist'],\n",
    "    _KEYPOINT_MODEL_PAIRS = {\"ArmL\": \"hand_L\",\n",
    "                            \"ArmR\": \"hand_R\",\n",
    "                            \"ElbowL\": \"lower_arm_L\",\n",
    "                            \"ElbowR\": \"lower_arm_R\",\n",
    "                            \"HeadB\": \"skull\",\n",
    "                            \"HeadF\": \"skull\",\n",
    "                            \"HeadL\": \"skull\",\n",
    "                            \"HipL\": \"upper_leg_L\",\n",
    "                            \"HipR\": \"upper_leg_R\",\n",
    "                            \"KneeL\": \"lower_leg_L\",\n",
    "                            \"KneeR\": \"lower_leg_R\",\n",
    "                            \"Offset1\": \"vertebra_1\",\n",
    "                            \"Offset2\": \"vertebra_1\",\n",
    "                            \"ShinL\": \"foot_L\",\n",
    "                            \"ShinR\": \"foot_R\",\n",
    "                            \"ShoulderL\": \"upper_arm_L\",\n",
    "                            \"ShoulderR\": \"upper_arm_R\",\n",
    "                            \"SpineF\": \"vertebra_cervical_5\",\n",
    "                            \"SpineL\": \"pelvis\",\n",
    "                            \"SpineM\": \"vertebra_1\"},\n",
    "    _KEYPOINT_COLOR_PAIRS = {\"ArmL\": LEFT_ARM,\n",
    "                            \"ArmR\": RIGHT_ARM,\n",
    "                            \"ElbowL\": LEFT_ARM,\n",
    "                            \"ElbowR\": RIGHT_ARM,\n",
    "                            \"HeadB\": HEAD,\n",
    "                            \"HeadF\": HEAD,\n",
    "                            \"HeadL\": HEAD,\n",
    "                            \"HipL\": LEFT_LEG,\n",
    "                            \"HipR\": RIGHT_LEG,\n",
    "                            \"KneeL\": LEFT_LEG,\n",
    "                            \"KneeR\": RIGHT_LEG,\n",
    "                            \"Offset1\": SPINE,\n",
    "                            \"Offset2\": SPINE,\n",
    "                            \"ShinL\": LEFT_LEG,\n",
    "                            \"ShinR\": RIGHT_LEG,\n",
    "                            \"ShoulderL\": LEFT_ARM,\n",
    "                            \"ShoulderR\": RIGHT_ARM,\n",
    "                            \"SpineF\": SPINE,\n",
    "                            \"SpineL\": SPINE,\n",
    "                            \"SpineM\": SPINE},\n",
    "    _KEYPOINT_INITIAL_OFFSETS = {\"ArmL\": \"0. 0. 0.\",\n",
    "                                \"ArmR\": \"0. 0. 0.\",\n",
    "                                \"ElbowL\": \"0. 0. 0.\",\n",
    "                                \"ElbowR\": \"0. 0. 0.\",\n",
    "                                \"HeadB\": \"0. -.025 .045\",\n",
    "                                \"HeadF\": \".025 -.025 .045\",\n",
    "                                \"HeadL\": \"0. .025 .045\",\n",
    "                                \"HipL\": \"0.03 0. 0.04\",\n",
    "                                \"HipR\": \"0. 0. 0.005\",\n",
    "                                \"KneeL\": \"0. 0. 0.03\",\n",
    "                                \"KneeR\": \"0. 0. 0.\",\n",
    "                                \"Offset1\": \"0.015 .0155 -0.005\",\n",
    "                                \"Offset2\": \"-0.015 .015 -0.005\",\n",
    "                                \"ShinL\": \"0.02 0. 0.015\",\n",
    "                                \"ShinR\": \"0.015 -0.01 0.0125\",\n",
    "                                \"ShoulderL\": \"0. 0. 0.\",\n",
    "                                \"ShoulderR\": \"0. 0. 0.\",\n",
    "                                \"SpineF\": \"0. 0. 0.005\",\n",
    "                                \"SpineL\": \"0. 0. 0.005\",\n",
    "                                \"SpineM\": \"0. 0. 0.005\"},\n",
    "    _TIME_BINS = .03,\n",
    "    _FTOL = 1e-4,\n",
    "    _ROOT_FTOL = 1e-8,\n",
    "    _DIFF_STEP = 3e-8,\n",
    "    _SITES_TO_REGULARIZE = [\"ArmL\", \"ArmR\", \"ElbowL\",\n",
    "                            \"ElbowR\", \"ShoulderL\", \"ShoulderR\",\n",
    "                            \"HipL\", \"HipR\", \"KneeL\", \"KneeR\",\n",
    "                            \"ShinL\", \"ShinR\"],\n",
    "    _IS_LIMB = ['scapula', 'hip', 'knee',\n",
    "                'shoulder', 'elbow'],\n",
    "    _ARM_JOINTS = ['shoulder', 'scapula', 'elbow', 'wrist', 'finger'],\n",
    "    _STAND_HEIGHT = 1.5,\n",
    "    q_reg_coef=0.,\n",
    "    m_reg_coef=.25,\n",
    "    scale_factor=1.2,\n",
    "    z_perc=5,\n",
    "    z_offset=.02,\n",
    "    adaptive_z_offset_value=.02,\n",
    "    temporal_reg_coef=.2\n",
    ")\n",
    "\n",
    "with open(out_path, 'w') as outfile:\n",
    "    yaml.dump(data, outfile, default_flow_style=False)"
   ]
  },
  {
   "cell_type": "code",
   "execution_count": 9,
   "metadata": {},
   "outputs": [
    {
     "name": "stdout",
     "output_type": "stream",
     "text": [
      "_ARM_JOINTS\n",
      "_DIFF_STEP\n",
      "_FTOL\n",
      "_IS_LIMB\n",
      "_KEYPOINT_COLOR_PAIRS\n",
      "_KEYPOINT_INITIAL_OFFSETS\n",
      "_KEYPOINT_MODEL_PAIRS\n",
      "_PARTS_TO_ZERO\n",
      "_ROOT_FTOL\n",
      "_SITES_TO_REGULARIZE\n",
      "_XML_PATH\n"
     ]
    }
   ],
   "source": [
    "with open(out_path, 'r') as infile:\n",
    "    try:\n",
    "        params = yaml.safe_load(infile)\n",
    "        for k in params.keys():\n",
    "            print(k)\n",
    "    except yaml.YAMLError as exc:\n",
    "        print(exc)"
   ]
  },
  {
   "cell_type": "code",
   "execution_count": 13,
   "metadata": {},
   "outputs": [
    {
     "name": "stdout",
     "output_type": "stream",
     "text": [
      "_ARM_JOINTS\n",
      "['shoulder', 'scapula', 'elbow', 'wrist', 'finger']\n",
      "_DIFF_STEP\n",
      "3e-08\n",
      "_FTOL\n",
      "0.0001\n",
      "_IS_LIMB\n",
      "['scapula', 'hip', 'knee', 'shoulder', 'elbow']\n",
      "_KEYPOINT_COLOR_PAIRS\n",
      "{'ArmL': '0 0 .8 1', 'ArmR': '.8 0 0 1', 'ElbowL': '0 0 .8 1', 'ElbowR': '.8 0 0 1', 'HeadB': '.8 .8 0 1', 'HeadF': '.8 .8 0 1', 'HeadL': '.8 .8 0 1', 'HipL': '0 0 .3 1', 'HipR': '.3 0 0 1', 'KneeL': '0 0 .3 1', 'KneeR': '.3 0 0 1', 'Offset1': '.8 .8 .8 1', 'Offset2': '.8 .8 .8 1', 'ShinL': '0 0 .3 1', 'ShinR': '.3 0 0 1', 'ShoulderL': '0 0 .8 1', 'ShoulderR': '.8 0 0 1', 'SpineF': '.8 .8 .8 1', 'SpineL': '.8 .8 .8 1', 'SpineM': '.8 .8 .8 1'}\n",
      "_KEYPOINT_INITIAL_OFFSETS\n",
      "{'ArmL': '0. 0. 0.', 'ArmR': '0. 0. 0.', 'ElbowL': '0. 0. 0.', 'ElbowR': '0. 0. 0.', 'HeadB': '0. -.025 .045', 'HeadF': '.025 -.025 .045', 'HeadL': '0. .025 .045', 'HipL': '0.03 0. 0.04', 'HipR': '0. 0. 0.005', 'KneeL': '0. 0. 0.03', 'KneeR': '0. 0. 0.', 'Offset1': '0.015 .0155 -0.005', 'Offset2': '-0.015 .015 -0.005', 'ShinL': '0.02 0. 0.015', 'ShinR': '0.015 -0.01 0.0125', 'ShoulderL': '0. 0. 0.', 'ShoulderR': '0. 0. 0.', 'SpineF': '0. 0. 0.005', 'SpineL': '0. 0. 0.005', 'SpineM': '0. 0. 0.005'}\n",
      "_KEYPOINT_MODEL_PAIRS\n",
      "{'ArmL': 'hand_L', 'ArmR': 'hand_R', 'ElbowL': 'lower_arm_L', 'ElbowR': 'lower_arm_R', 'HeadB': 'skull', 'HeadF': 'skull', 'HeadL': 'skull', 'HipL': 'upper_leg_L', 'HipR': 'upper_leg_R', 'KneeL': 'lower_leg_L', 'KneeR': 'lower_leg_R', 'Offset1': 'vertebra_1', 'Offset2': 'vertebra_1', 'ShinL': 'foot_L', 'ShinR': 'foot_R', 'ShoulderL': 'upper_arm_L', 'ShoulderR': 'upper_arm_R', 'SpineF': 'vertebra_cervical_5', 'SpineL': 'pelvis', 'SpineM': 'vertebra_1'}\n",
      "_PARTS_TO_ZERO\n",
      "['toe', 'ankle', 'finger', 'wrist']\n",
      "_ROOT_FTOL\n",
      "1e-08\n",
      "_SITES_TO_REGULARIZE\n",
      "['ArmL', 'ArmR', 'ElbowL', 'ElbowR', 'ShoulderL', 'ShoulderR', 'HipL', 'HipR', 'KneeL', 'KneeR', 'ShinL', 'ShinR']\n",
      "_XML_PATH\n",
      "/home/diego/code/olveczky/dm/stac/models/rat_may17.xml\n"
     ]
    }
   ],
   "source": [
    "for k,v in params.items():\n",
    "    print(k)\n",
    "    print(v)"
   ]
  },
  {
   "cell_type": "markdown",
   "metadata": {},
   "source": [
    "# Load Data and model "
   ]
  },
  {
   "cell_type": "code",
   "execution_count": null,
   "metadata": {},
   "outputs": [],
   "source": [
    "# Pathing\n",
    "model_path = \"/home/diego/code/olveczky/stac/ratMocap/models/rat.xml\"\n",
    "data_path = \"/home/diego/code/olveczky/stac/ratMocap/dataInput/nolj_Recording_day2_overnight5_nolj_imputed_JDM33.mat\"\n",
    "\n",
    "# Load\n",
    "kp_data, kp_names = util.load_kp_data_from_file(data_path, struct_name='markers_aligned_preproc');\n",
    "print(\"Keypoint data is shape: \", kp_data.shape)\n",
    "print(\"Keypoint names are: \", kp_names)\n",
    "kp_data = kp_data[100000::10,:]/1000\n",
    "# Construct model and physics\n",
    "rat = util.RatWithMocapSites(model_path, kp_data, kp_names)\n",
    "skeleton_spine_length = np.sqrt(np.sum((rat.physics.named.data.xpos[2] - rat.physics.named.data.xpos[4])**2))\n",
    "mocap_spine_length = np.sqrt(np.sum((np.mean(kp_data, axis=0)[9:12] - np.mean(kp_data, axis=0)[12:15])**2))\n",
    "factor = mocap_spine_length/skeleton_spine_length\n",
    "factor = 1.9\n",
    "kp_data *= factor\n",
    "kp_data[:,2::3] += rat.physics.named.data.xpos[4][2] + .01\n",
    "print(factor)\n",
    "\n"
   ]
  },
  {
   "cell_type": "code",
   "execution_count": null,
   "metadata": {},
   "outputs": [],
   "source": [
    "# Load\n",
    "# data_path = \"/home/diego/code/olveczky/stac/ratMocap/dataInput/nolj_Recording_day2_overnight5_nolj_imputed_JDM33.mat\"\n",
    "data_path = \"/home/diego/code/olveczky/stac/ratMocap/dataInput/nolj_Recording_day8_caff3_nolj_imputed.mat\"\n",
    "kp_data, kp_names = util.load_kp_data_from_file(data_path, struct_name='markers_preproc');\n",
    "print(\"Keypoint data is shape: \", kp_data.shape)\n",
    "print(\"Keypoint names are: \", kp_names)\n",
    "factor = 1.5\n",
    "start_frame = 30900\n",
    "skip = 10\n",
    "kp_data = kp_data[start_frame::skip,:]/1000*factor\n",
    "kp_data[:,2::3] -= .02"
   ]
  },
  {
   "cell_type": "markdown",
   "metadata": {},
   "source": [
    "# Get initial Dm"
   ]
  },
  {
   "cell_type": "code",
   "execution_count": null,
   "metadata": {},
   "outputs": [],
   "source": [
    "imp.reload(stac)\n",
    "imp.reload(rodent_environments)\n",
    "env = rodent_environments.rodent_mocap(kp_data)\n",
    "viewer.launch(env)"
   ]
  },
  {
   "cell_type": "code",
   "execution_count": null,
   "metadata": {},
   "outputs": [],
   "source": [
    "imp.reload(rodent_environments)\n",
    "imp.reload(stac)\n",
    "\n",
    "# Params\n",
    "_IS_LIMB = ['scapula', 'hip', 'toe', 'knee', 'ankle', 'shoulder', 'finger', 'elbow', 'wrist']\n",
    "n_sample_frames = 50\n",
    "n_frames_clip = 500\n",
    "n_iters = 1\n",
    "q_reg_coef = 0.\n",
    "m_reg_coef = .1\n",
    "\n",
    "# Initialize the rodent and environment \n",
    "env = rodent_environments.rodent_mocap(kp_data, n_frames_clip)\n",
    "initial_offsets = np.copy(env.physics.bind(env.task._walker.body_sites).pos[:])\n",
    "limbs = np.zeros_like(env.physics.named.data.qpos[:], dtype='int32')\n",
    "for i, name in enumerate(env.physics.named.data.qpos.axes.row.names):\n",
    "    if any(part in name for part in _IS_LIMB):\n",
    "        limbs[i] = 1\n",
    "head_body = ~limbs\n",
    "# Iterate between q and m phases \n",
    "q = []\n",
    "for iteration in range(n_iters):\n",
    "    q = []\n",
    "    # Optimize the root of the first frame\n",
    "    stac.q_phase(env.physics, env.task.kp_data[0,:], env.task._walker.body_sites, root_only=True)\n",
    "#     stac.q_phase(env.physics, env.task.kp_data[0,:], 0, env.task._walker.body_sites)\n",
    "    q.append(env.physics.named.data.qpos[:].copy())\n",
    "    \n",
    "    # m on first \n",
    "    stac.m_phase(env.physics, env.task.kp_data, env.task._walker.body_sites, [0], q, initial_offsets, reg_coef=m_reg_coef, maxiter=20)\n",
    "    q = []\n",
    "    \n",
    "    # Find the frames to use in the optimization.\n",
    "    time_indices = np.random.randint(0, n_frames_clip, n_sample_frames)\n",
    "    \n",
    "    # Q-phase across the clip: optimize joint angles\n",
    "    print('q-phase')\n",
    "    for i in range(n_frames_clip):\n",
    "        if np.mod(i,10) == 0: print(i)\n",
    "        stac.q_phase(env.physics, env.task.kp_data[i,:], env.task._walker.body_sites, reg_coef=q_reg_coef)\n",
    "        stac.q_phase(env.physics, env.task.kp_data[i,:], env.task._walker.body_sites, reg_coef=q_reg_coef, qs_to_opt=limbs)\n",
    "        retval = env.physics.named.data.qpos[:]\n",
    "        q.append(retval.copy())\n",
    "    \n",
    "    # M-phase across the subsampling: optimize offsets\n",
    "    print('m-phase')\n",
    "    stac.m_phase(env.physics, env.task.kp_data, env.task._walker.body_sites, time_indices, q, initial_offsets, reg_coef=m_reg_coef)\n",
    "    \n",
    "    # Q-phase across the clip: optimize joint angles\n",
    "    q = []\n",
    "    x = []\n",
    "    print('q-phase')\n",
    "    for i in range(n_frames_clip):\n",
    "        if np.mod(i,10) == 0: print(i)\n",
    "        stac.q_phase(env.physics, env.task.kp_data[i,:], env.task._walker.body_sites, reg_coef=q_reg_coef)\n",
    "        stac.q_phase(env.physics, env.task.kp_data[i,:], env.task._walker.body_sites, reg_coef=q_reg_coef, qs_to_opt=limbs)\n",
    "        retval = env.physics.named.data.qpos[:]\n",
    "        q.append(retval.copy())\n",
    "        retval = env.physics.named.data.xpos[:]\n",
    "        x.append(retval.copy())\n",
    "\n",
    "# Prep the environment for updating the body\n",
    "env.task.precomp_qpos = q\n",
    "env.task.precomp_xpos = x\n",
    "\n",
    "# GO! \n",
    "env.task.render_video=True\n",
    "viewer.launch(env)\n",
    "env.task.V.release()"
   ]
  },
  {
   "cell_type": "code",
   "execution_count": null,
   "metadata": {},
   "outputs": [],
   "source": [
    "\n",
    "env.physics.named.model._asdict()['cam_bodyid']"
   ]
  },
  {
   "cell_type": "code",
   "execution_count": null,
   "metadata": {},
   "outputs": [],
   "source": [
    "imp.reload(rodent_environments)\n",
    "env = rodent_environments.rodent_mocap(kp_data, n_frames_clip)\n",
    "env.task.render_video=False\n",
    "env.task.precomp_qpos = q\n",
    "env.task.precomp_xpos = x\n",
    "env.task.V = None\n",
    "viewer.launch(env)\n",
    "env.task.V.release()"
   ]
  },
  {
   "cell_type": "code",
   "execution_count": null,
   "metadata": {},
   "outputs": [],
   "source": [
    "env.task"
   ]
  },
  {
   "cell_type": "code",
   "execution_count": null,
   "metadata": {},
   "outputs": [],
   "source": [
    "env.task.V.release()"
   ]
  },
  {
   "cell_type": "code",
   "execution_count": null,
   "metadata": {},
   "outputs": [],
   "source": [
    "env.physics.named.data.xpos.axes.row.names"
   ]
  },
  {
   "cell_type": "code",
   "execution_count": null,
   "metadata": {},
   "outputs": [],
   "source": [
    "env.physics.named.data.xpos[:].shape"
   ]
  },
  {
   "cell_type": "code",
   "execution_count": null,
   "metadata": {},
   "outputs": [],
   "source": [
    "# env.task._walker._mjcf_root.find_all('body')\n",
    "if 'yellow' in ['yellow', 'red']: print('yes')\n",
    "env.physics.named.data.qpos.axes.row.names"
   ]
  },
  {
   "cell_type": "code",
   "execution_count": null,
   "metadata": {},
   "outputs": [],
   "source": [
    "env = rodent_environments.rodent_mocap(kp_data)\n",
    "viewer.launch(env)"
   ]
  },
  {
   "cell_type": "code",
   "execution_count": null,
   "metadata": {},
   "outputs": [],
   "source": [
    "np.stack([np.array([1,2,3]),np.array([1,2,3])])"
   ]
  },
  {
   "cell_type": "code",
   "execution_count": null,
   "metadata": {},
   "outputs": [],
   "source": [
    "viewer.launch(env)"
   ]
  },
  {
   "cell_type": "code",
   "execution_count": null,
   "metadata": {},
   "outputs": [],
   "source": [
    "env.task._walker.body_sites"
   ]
  },
  {
   "cell_type": "code",
   "execution_count": null,
   "metadata": {},
   "outputs": [],
   "source": [
    "print(env._task._arena.mjcf_model.worldbody.to_xml_string())"
   ]
  },
  {
   "cell_type": "code",
   "execution_count": null,
   "metadata": {},
   "outputs": [],
   "source": [
    "imp.reload(stac)\n",
    "rat = util.RatWithMocapSites(model_path, kp_data, kp_names)\n",
    "env = control.Environment(rat.physics, suite.rat.Rat(0), time_limit=20, n_sub_steps=100, **{})\n",
    "viewer.launch(env)"
   ]
  },
  {
   "cell_type": "code",
   "execution_count": null,
   "metadata": {},
   "outputs": [],
   "source": [
    "imp.reload(stac)\n",
    "rat = util.RatWithMocapSites(model_path, kp_data, kp_names)\n",
    "stac.m_phase(rat.physics, kp_data, rat.get_sites(), n_frames=50)\n",
    "env = control.Environment(rat.physics, suite.rat.Rat(0), time_limit=20, n_sub_steps=100, **{})\n",
    "viewer.launch(env)"
   ]
  },
  {
   "cell_type": "code",
   "execution_count": null,
   "metadata": {},
   "outputs": [],
   "source": [
    "env = control.Environment(rat.physics, suite.rat.Rat(0), time_limit=20, n_sub_steps=100, **{})\n",
    "viewer.launch(env)"
   ]
  },
  {
   "cell_type": "code",
   "execution_count": null,
   "metadata": {},
   "outputs": [],
   "source": [
    "env.physics.render()"
   ]
  },
  {
   "cell_type": "markdown",
   "metadata": {},
   "source": [
    "# Run q_phase on a set of frames"
   ]
  },
  {
   "cell_type": "code",
   "execution_count": null,
   "metadata": {},
   "outputs": [],
   "source": [
    "imp.reload(stac)\n",
    "def stac_im(physics, kp_data, frame, sites):\n",
    "    print(frame)\n",
    "    stac.q_phase(physics, kp_data[frame,:], frame, sites)\n",
    "    return physics.render(height=500,width=500)\n",
    "def stac_qpos(physics, kp_data, frame, sites):\n",
    "    print(frame)\n",
    "    stac.q_phase(physics, kp_data[frame,:], frame, sites)\n",
    "    retval = physics.named.data.qpos[:]\n",
    "    return retval.copy()\n",
    "V = [stac_im(env.physics, kp_data, frame, env.task._walker.body_sites) for frame in range(0,100,1)]"
   ]
  },
  {
   "cell_type": "code",
   "execution_count": null,
   "metadata": {},
   "outputs": [],
   "source": [
    "def stac_qpos(physics, kp_data, frame, sites):\n",
    "    if np.mod(frame, 10) == 0: print(frame)\n",
    "    stac.q_phase(physics, kp_data[frame,:], frame, sites, reg_coef=0.01)\n",
    "    retval = physics.named.data.qpos[:]\n",
    "    return retval.copy()\n",
    "Q = [stac_qpos(env.physics, kp_data, frame, env.task._walker.body_sites) for frame in range(0,1000,1)]"
   ]
  },
  {
   "cell_type": "code",
   "execution_count": null,
   "metadata": {},
   "outputs": [],
   "source": [
    "env.task.precomp_qpos = Q\n",
    "viewer.launch(env)"
   ]
  },
  {
   "cell_type": "markdown",
   "metadata": {},
   "source": [
    "# View the results"
   ]
  },
  {
   "cell_type": "code",
   "execution_count": null,
   "metadata": {},
   "outputs": [],
   "source": [
    "p = plt.figure()\n",
    "vid = plt.imshow(V[0])\n",
    "# initialization function: plot the background of each frame\n",
    "def init():\n",
    "    vid.set_data(V[0])\n",
    "    return (vid,)\n",
    "\n",
    "# animation function. This is called sequentially\n",
    "def animate(i):\n",
    "    vid.set_data(V[i])\n",
    "    return (vid,)\n",
    "anim = animation.FuncAnimation(p, animate, init_func=init,\n",
    "                               frames=100, interval=1, blit=True)\n"
   ]
  },
  {
   "cell_type": "code",
   "execution_count": null,
   "metadata": {},
   "outputs": [],
   "source": [
    "centered[0,:]"
   ]
  },
  {
   "cell_type": "markdown",
   "metadata": {},
   "source": [
    "# Stac pipeline"
   ]
  },
  {
   "cell_type": "code",
   "execution_count": null,
   "metadata": {},
   "outputs": [],
   "source": [
    "# env = suite.load(domain_name='rat', task_name='stand')\n",
    "# viewer.launch(env)\n",
    "imp.reload(util)\n",
    "# rat = util.RatWithMocapSites(model_path, kp_data, kp_names)\n",
    "env = control.Environment(rat.physics, suite.rat.Rat(0), time_limit=20, n_sub_steps=100, **{})\n",
    "viewer.launch(env)"
   ]
  },
  {
   "cell_type": "code",
   "execution_count": null,
   "metadata": {},
   "outputs": [],
   "source": [
    "env.action_spec()"
   ]
  },
  {
   "cell_type": "code",
   "execution_count": null,
   "metadata": {},
   "outputs": [],
   "source": [
    "viewer.launch(env)"
   ]
  },
  {
   "cell_type": "code",
   "execution_count": null,
   "metadata": {},
   "outputs": [],
   "source": [
    "env.__dict__"
   ]
  },
  {
   "cell_type": "code",
   "execution_count": null,
   "metadata": {},
   "outputs": [],
   "source": [
    "t = mjcf.RootElement()\n",
    "t.worldbody.add('site', type='sphere',size=[.1],rgba=\"1 0 0 1\",pos=[0,0,0])\n",
    "physics = mjcf.Physics.from_mjcf_model(t)\n",
    "env = control.Environment(physics, suite.rat.Rat(0), time_limit=20, n_sub_steps=100, **{})\n",
    "viewer.launch(env)"
   ]
  },
  {
   "cell_type": "code",
   "execution_count": null,
   "metadata": {},
   "outputs": [],
   "source": []
  },
  {
   "cell_type": "code",
   "execution_count": null,
   "metadata": {},
   "outputs": [],
   "source": [
    "imp.reload(stac)\n",
    "def par_q_phase(physics, kp_data, frame, sites, queue):\n",
    "    stac.q_phase(physics, kp_data, frame, sites)\n",
    "    queue.put(physics.render(height=500,width=500,camera_id='side'))\n",
    "output = mp.Queue()\n",
    "processes = [mp.Process(target=par_q_phase, args=(rat.physics, kp_data[frame,:], frame, rat.get_sites(), output)) \n",
    "             for frame in range(0,100,10)]\n",
    "\n",
    "for p in processes:\n",
    "    p.start()\n",
    "    \n",
    "for p in processes:\n",
    "    p.join()\n",
    "    \n",
    "results = [output.get() for p in processes]"
   ]
  }
 ],
 "metadata": {
  "kernelspec": {
   "display_name": "Python 3",
   "language": "python",
   "name": "python3"
  },
  "language_info": {
   "codemirror_mode": {
    "name": "ipython",
    "version": 3
   },
   "file_extension": ".py",
   "mimetype": "text/x-python",
   "name": "python",
   "nbconvert_exporter": "python",
   "pygments_lexer": "ipython3",
   "version": "3.6.7"
  }
 },
 "nbformat": 4,
 "nbformat_minor": 2
}
