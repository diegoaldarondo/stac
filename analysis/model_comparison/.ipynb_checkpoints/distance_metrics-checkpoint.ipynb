{
 "cells": [
  {
   "cell_type": "markdown",
   "metadata": {},
   "source": [
    "# Model comparison using distance metrics"
   ]
  },
  {
   "cell_type": "code",
   "execution_count": 1,
   "metadata": {},
   "outputs": [],
   "source": [
    "import os\n",
    "import pickle\n",
    "import matplotlib\n",
    "import numpy as np\n",
    "%matplotlib notebook\n",
    "import matplotlib.pyplot as plt"
   ]
  },
  {
   "cell_type": "code",
   "execution_count": 2,
   "metadata": {},
   "outputs": [],
   "source": [
    "# Pathing\n",
    "data_folder = '/home/diego/data/dm/stac/results/JDM25_v6'\n",
    "files = [os.path.join(data_folder, f) for f in os.listdir(data_folder) if '.p' in f]\n",
    "\n",
    "# Load list of dictionaries\n",
    "data = [pickle.load(open(f, 'rb')) for f in files]\n"
   ]
  },
  {
   "cell_type": "markdown",
   "metadata": {},
   "source": [
    "## Build a class for rat analysis"
   ]
  },
  {
   "cell_type": "code",
   "execution_count": 3,
   "metadata": {},
   "outputs": [
    {
     "ename": "NameError",
     "evalue": "name 'mocap_names' is not defined",
     "output_type": "error",
     "traceback": [
      "\u001b[0;31m---------------------------------------------------------------------------\u001b[0m",
      "\u001b[0;31mNameError\u001b[0m                                 Traceback (most recent call last)",
      "\u001b[0;32m<ipython-input-3-081dfa2ef136>\u001b[0m in \u001b[0;36m<module>\u001b[0;34m\u001b[0m\n\u001b[1;32m     38\u001b[0m         \u001b[0;32mreturn\u001b[0m \u001b[0mids\u001b[0m\u001b[0;34m\u001b[0m\u001b[0;34m\u001b[0m\u001b[0m\n\u001b[1;32m     39\u001b[0m \u001b[0;34m\u001b[0m\u001b[0m\n\u001b[0;32m---> 40\u001b[0;31m \u001b[0mrat\u001b[0m \u001b[0;34m=\u001b[0m \u001b[0mrat_analysis\u001b[0m\u001b[0;34m(\u001b[0m\u001b[0mdata\u001b[0m\u001b[0;34m[\u001b[0m\u001b[0;36m0\u001b[0m\u001b[0;34m]\u001b[0m\u001b[0;34m)\u001b[0m\u001b[0;34m\u001b[0m\u001b[0;34m\u001b[0m\u001b[0m\n\u001b[0m\u001b[1;32m     41\u001b[0m \u001b[0;32massert\u001b[0m \u001b[0mall\u001b[0m\u001b[0;34m(\u001b[0m\u001b[0mrat\u001b[0m\u001b[0;34m.\u001b[0m\u001b[0mp_ids\u001b[0m\u001b[0;34m(\u001b[0m\u001b[0;34m'arms'\u001b[0m\u001b[0;34m)\u001b[0m \u001b[0;34m==\u001b[0m \u001b[0mrat\u001b[0m\u001b[0;34m.\u001b[0m\u001b[0mp_ids\u001b[0m\u001b[0;34m(\u001b[0m\u001b[0mrat\u001b[0m\u001b[0;34m.\u001b[0m\u001b[0mparts\u001b[0m\u001b[0;34m[\u001b[0m\u001b[0;34m'arms'\u001b[0m\u001b[0;34m]\u001b[0m\u001b[0;34m)\u001b[0m\u001b[0;34m)\u001b[0m\u001b[0;34m\u001b[0m\u001b[0;34m\u001b[0m\u001b[0m\n\u001b[1;32m     42\u001b[0m \u001b[0;32massert\u001b[0m \u001b[0;32mnot\u001b[0m \u001b[0many\u001b[0m\u001b[0;34m(\u001b[0m\u001b[0mrat\u001b[0m\u001b[0;34m.\u001b[0m\u001b[0mp_ids\u001b[0m\u001b[0;34m(\u001b[0m\u001b[0;34m'arms'\u001b[0m\u001b[0;34m)\u001b[0m \u001b[0;34m&\u001b[0m \u001b[0mrat\u001b[0m\u001b[0;34m.\u001b[0m\u001b[0mp_ids\u001b[0m\u001b[0;34m(\u001b[0m\u001b[0;34m'legs'\u001b[0m\u001b[0;34m)\u001b[0m\u001b[0;34m)\u001b[0m\u001b[0;34m\u001b[0m\u001b[0;34m\u001b[0m\u001b[0m\n",
      "\u001b[0;32m<ipython-input-3-081dfa2ef136>\u001b[0m in \u001b[0;36m__init__\u001b[0;34m(self, snip)\u001b[0m\n\u001b[1;32m      3\u001b[0m         \u001b[0mself\u001b[0m\u001b[0;34m.\u001b[0m\u001b[0msnip\u001b[0m \u001b[0;34m=\u001b[0m \u001b[0msnip\u001b[0m\u001b[0;34m\u001b[0m\u001b[0;34m\u001b[0m\u001b[0m\n\u001b[1;32m      4\u001b[0m         \u001b[0mself\u001b[0m\u001b[0;34m.\u001b[0m\u001b[0mmocap_names\u001b[0m \u001b[0;34m=\u001b[0m \u001b[0;34m[\u001b[0m\u001b[0mk\u001b[0m \u001b[0;32mfor\u001b[0m \u001b[0mk\u001b[0m \u001b[0;32min\u001b[0m \u001b[0mself\u001b[0m\u001b[0;34m.\u001b[0m\u001b[0msnip\u001b[0m\u001b[0;34m[\u001b[0m\u001b[0;34m'_KEYPOINT_MODEL_PAIRS'\u001b[0m\u001b[0;34m]\u001b[0m\u001b[0;34m.\u001b[0m\u001b[0mkeys\u001b[0m\u001b[0;34m(\u001b[0m\u001b[0;34m)\u001b[0m\u001b[0;34m]\u001b[0m\u001b[0;34m\u001b[0m\u001b[0;34m\u001b[0m\u001b[0m\n\u001b[0;32m----> 5\u001b[0;31m         self.parts = {'arms': self._get_parts(['Arm', 'Elbow', 'Shoulder']),\n\u001b[0m\u001b[1;32m      6\u001b[0m          \u001b[0;34m'legs'\u001b[0m\u001b[0;34m:\u001b[0m \u001b[0mself\u001b[0m\u001b[0;34m.\u001b[0m\u001b[0m_get_parts\u001b[0m\u001b[0;34m(\u001b[0m\u001b[0;34m[\u001b[0m\u001b[0;34m'Shin'\u001b[0m\u001b[0;34m,\u001b[0m \u001b[0;34m'Knee'\u001b[0m\u001b[0;34m,\u001b[0m \u001b[0;34m'Hip'\u001b[0m\u001b[0;34m]\u001b[0m\u001b[0;34m)\u001b[0m\u001b[0;34m,\u001b[0m\u001b[0;34m\u001b[0m\u001b[0;34m\u001b[0m\u001b[0m\n\u001b[1;32m      7\u001b[0m          \u001b[0;34m'head'\u001b[0m\u001b[0;34m:\u001b[0m \u001b[0mself\u001b[0m\u001b[0;34m.\u001b[0m\u001b[0m_get_parts\u001b[0m\u001b[0;34m(\u001b[0m\u001b[0;34m[\u001b[0m\u001b[0;34m'Head'\u001b[0m\u001b[0;34m]\u001b[0m\u001b[0;34m)\u001b[0m\u001b[0;34m,\u001b[0m\u001b[0;34m\u001b[0m\u001b[0;34m\u001b[0m\u001b[0m\n",
      "\u001b[0;32m<ipython-input-3-081dfa2ef136>\u001b[0m in \u001b[0;36m_get_parts\u001b[0;34m(self, partnames)\u001b[0m\n\u001b[1;32m     20\u001b[0m \u001b[0;34m\u001b[0m\u001b[0m\n\u001b[1;32m     21\u001b[0m     \u001b[0;32mdef\u001b[0m \u001b[0m_get_parts\u001b[0m\u001b[0;34m(\u001b[0m\u001b[0mself\u001b[0m\u001b[0;34m,\u001b[0m \u001b[0mpartnames\u001b[0m\u001b[0;34m)\u001b[0m\u001b[0;34m:\u001b[0m\u001b[0;34m\u001b[0m\u001b[0;34m\u001b[0m\u001b[0m\n\u001b[0;32m---> 22\u001b[0;31m         \u001b[0;32mreturn\u001b[0m \u001b[0;34m[\u001b[0m\u001b[0mname\u001b[0m \u001b[0;32mfor\u001b[0m \u001b[0mname\u001b[0m \u001b[0;32min\u001b[0m \u001b[0mmocap_names\u001b[0m \u001b[0;32mif\u001b[0m \u001b[0many\u001b[0m\u001b[0;34m(\u001b[0m\u001b[0mpart\u001b[0m \u001b[0;32min\u001b[0m \u001b[0mname\u001b[0m \u001b[0;32mfor\u001b[0m \u001b[0mpart\u001b[0m \u001b[0;32min\u001b[0m \u001b[0mpartnames\u001b[0m\u001b[0;34m)\u001b[0m\u001b[0;34m]\u001b[0m\u001b[0;34m\u001b[0m\u001b[0;34m\u001b[0m\u001b[0m\n\u001b[0m\u001b[1;32m     23\u001b[0m \u001b[0;34m\u001b[0m\u001b[0m\n\u001b[1;32m     24\u001b[0m     \u001b[0;32mdef\u001b[0m \u001b[0mp_ids\u001b[0m\u001b[0;34m(\u001b[0m\u001b[0mself\u001b[0m\u001b[0;34m,\u001b[0m \u001b[0mparts\u001b[0m\u001b[0;34m)\u001b[0m\u001b[0;34m:\u001b[0m\u001b[0;34m\u001b[0m\u001b[0;34m\u001b[0m\u001b[0m\n",
      "\u001b[0;31mNameError\u001b[0m: name 'mocap_names' is not defined"
     ]
    }
   ],
   "source": [
    "class rat_analysis():\n",
    "    def __init__(self, snip):\n",
    "        self.snip = snip\n",
    "        self.mocap_names = [k for k in self.snip['_KEYPOINT_MODEL_PAIRS'].keys()]\n",
    "        self.parts = {'arms': self._get_parts(['Arm', 'Elbow', 'Shoulder']),\n",
    "         'legs': self._get_parts(['Shin', 'Knee', 'Hip']),\n",
    "         'head': self._get_parts(['Head']),\n",
    "         'body': self._get_parts(['Spine', 'Offset']),\n",
    "         'total': self.mocap_names\n",
    "        }\n",
    "        self._marker_ids = {}\n",
    "        for marker_id, val in enumerate(self.mocap_names):\n",
    "            self._marker_ids[val] = marker_id*3 + np.array([0, 1, 2])\n",
    "        self.kp_data = self.snip['kp_data']\n",
    "        self.walker_body_sites = []\n",
    "        for sitepos in self.snip['walker_body_sites']:\n",
    "            self.walker_body_sites.append(sitepos.flatten())\n",
    "        self.walker_body_sites = np.stack(self.walker_body_sites, axis=1).T  \n",
    "        self.qpos = self.snip['qpos']\n",
    "        \n",
    "    def _get_parts(self, partnames):\n",
    "        return [name for name in self.mocap_names if any(part in name for part in partnames)]\n",
    "    \n",
    "    def p_ids(self, parts):\n",
    "        # If its a string, check to see if it is a common partname,\n",
    "        # otherwise just turn it into a list,\n",
    "        if isinstance(parts, str):\n",
    "            if parts in self.parts.keys():\n",
    "                parts = self.parts[parts]\n",
    "            else:\n",
    "                parts = [parts]\n",
    "        \n",
    "        # Build a logical array for easy indexing\n",
    "        ids = np.zeros(len(self.mocap_names)*3, dtype='bool')\n",
    "        for part in parts:\n",
    "            if part in self._marker_ids.keys():\n",
    "                ids[self._marker_ids[part]] = True\n",
    "        return ids\n",
    "    \n",
    "rat = rat_analysis(data[0])\n",
    "assert all(rat.p_ids('arms') == rat.p_ids(rat.parts['arms']))   \n",
    "assert not any(rat.p_ids('arms') & rat.p_ids('legs'))        "
   ]
  },
  {
   "cell_type": "markdown",
   "metadata": {},
   "source": [
    "## Make an analysis object for each snippet"
   ]
  },
  {
   "cell_type": "code",
   "execution_count": null,
   "metadata": {},
   "outputs": [],
   "source": [
    "rats = [rat_analysis(snip) for snip in data]"
   ]
  },
  {
   "cell_type": "markdown",
   "metadata": {},
   "source": [
    "## Calculate the distances between each marker and its corresponding representation in the walker body after stac optimization"
   ]
  },
  {
   "cell_type": "code",
   "execution_count": null,
   "metadata": {},
   "outputs": [],
   "source": [
    "def get_distances(rat, parts):\n",
    "    # Calculate the squared errors\n",
    "    ids = rat.p_ids(parts)\n",
    "    gt = rat.kp_data[:, ids]\n",
    "    est = rat.walker_body_sites[:, ids]\n",
    "    delta = (gt - est)**2\n",
    "    \n",
    "    # Find the distances for each marker\n",
    "    n_dims = np.sum(ids)\n",
    "    n_markers = int(n_dims/3)\n",
    "    distances = np.zeros((delta.shape[0], n_markers))\n",
    "    for i in range(n_markers):\n",
    "        distances[:, i] = np.sqrt(np.sum(delta[:, i*3 + np.array([0, 1, 2])], axis=1))\n",
    "    return distances\n",
    "\n",
    "# For each snippet, find the distances on an appendage-by-appendage basis\n",
    "deltas = []\n",
    "for rat in rats:\n",
    "    result = {}\n",
    "    for part in rat.parts.keys():\n",
    "        result[part] = get_distances(rat, part)\n",
    "        result['mean_' + part] = np.nanmean(np.nanmean(result[part], axis=0))\n",
    "    deltas.append(result)"
   ]
  },
  {
   "cell_type": "markdown",
   "metadata": {},
   "source": [
    "## Plot the 3d error distances for each part group"
   ]
  },
  {
   "cell_type": "code",
   "execution_count": null,
   "metadata": {},
   "outputs": [],
   "source": [
    "fig, ax = plt.subplots(figsize=(9,7))\n",
    "plt.rcParams.update({'font.size': 14})\n",
    "for i, part in enumerate(rats[0].parts.keys()):\n",
    "    vals = [diff['mean_' + part] for diff in deltas]\n",
    "    jitter = (np.random.rand(len(vals))-.5)*.1\n",
    "    plt.scatter((i + jitter)*np.ones_like(vals), vals)\n",
    "plt.xticks(ticks=[0, 1, 2, 3, 4], labels=rats[0].parts.keys())\n",
    "plt.ylabel('Average 3d error (m)')\n",
    "plt.grid(axis='y', linestyle='--')"
   ]
  },
  {
   "cell_type": "code",
   "execution_count": null,
   "metadata": {},
   "outputs": [],
   "source": []
  }
 ],
 "metadata": {
  "kernelspec": {
   "display_name": "Python 3",
   "language": "python",
   "name": "python3"
  },
  "language_info": {
   "codemirror_mode": {
    "name": "ipython",
    "version": 3
   },
   "file_extension": ".py",
   "mimetype": "text/x-python",
   "name": "python",
   "nbconvert_exporter": "python",
   "pygments_lexer": "ipython3",
   "version": "3.6.7"
  }
 },
 "nbformat": 4,
 "nbformat_minor": 2
}
