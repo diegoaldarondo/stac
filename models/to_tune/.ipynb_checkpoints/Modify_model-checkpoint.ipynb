{
 "cells": [
  {
   "cell_type": "markdown",
   "metadata": {},
   "source": [
    "# Rescale rat model to match Long-Evans rat skeletal parameters\n",
    "\n",
    "### Changes include\n",
    "* Global scaling to approximate average rat size.\n",
    "* Rescaling of long bones to measured lengths to preserve proportions. "
   ]
  },
  {
   "cell_type": "code",
   "execution_count": 1,
   "metadata": {},
   "outputs": [],
   "source": [
    "from dm_control import mjcf\n",
    "from dm_control import viewer\n",
    "from dm_control import mujoco\n",
    "from dm_control import suite\n",
    "import numpy as np\n",
    "import re"
   ]
  },
  {
   "cell_type": "markdown",
   "metadata": {},
   "source": [
    "## Define useful parameters and functions"
   ]
  },
  {
   "cell_type": "code",
   "execution_count": 2,
   "metadata": {},
   "outputs": [],
   "source": [
    "base_model_path = '/home/diego/code/olveczky/dm/stac/models/to_tune/rat_may17.xml'\n",
    "# temp_model_path is the model used by .../dm_control/suite/rat.py for easy iteration.\n",
    "temp_model_path = '/home/diego/.envs/mujoco200_3.7/lib/python3.6/site-packages/dm_control/suite/rat_temp.xml'\n",
    "\n",
    "def view_model():\n",
    "    # Load an environment from the Control Suite.\n",
    "    env = suite.load(domain_name=\"rat\", task_name=\"stand\")\n",
    "    # Launch the viewer application.\n",
    "    viewer.launch(env)\n",
    "\n",
    "def load_model(model_path):\n",
    "    return mjcf.from_path(model_path)\n",
    "\n",
    "def write_model(model, save_path):\n",
    "    s = model.to_xml_string()\n",
    "    s = re.sub('rat_skin.*skn', 'rat_skin.skn', s)\n",
    "    with open(save_path , 'w') as f:\n",
    "        f.write(s)\n",
    "\n",
    "# Save measured data (mm) and the bone-site pairs they correspond to \n",
    "bone_lengths = {'humerus': 30.0,\n",
    "                'radius': 29.6,\n",
    "                'femur': 36.5,\n",
    "                'tibia': 42.8,\n",
    "                'metatarsal': 23.4,\n",
    "                'hand': 9.0}\n",
    "joint_pairs = {'humerus': ['shoulder_L', 'elbow_L'],\n",
    "               'radius': ['elbow_L', 'wrist_L'],\n",
    "               'femur': ['hip_L', 'knee_L'],\n",
    "               'tibia': ['knee_L', 'ankle_L'],\n",
    "               'metatarsal': ['ankle_L', 'toe_L'],\n",
    "               'hand': ['wrist_L', 'finger_L']}\n",
    "\n",
    "skull_width = 38.8\n",
    "skull_length = 57\n",
    "\n",
    "skull_dims = {'length': [47.4], 'width': [20.2]}\n",
    "skull_pairs = {'length': ['head', 'skull_T0_collision'],\n",
    "              'width': ['eye_R_collision', 'eye_L_collision']}\n",
    "\n",
    "\n",
    "\n",
    "base_model = load_model(base_model_path)\n",
    "write_model(base_model, temp_model_path)\n",
    "# view_model()"
   ]
  },
  {
   "cell_type": "markdown",
   "metadata": {},
   "source": [
    "## View the base model"
   ]
  },
  {
   "cell_type": "code",
   "execution_count": 3,
   "metadata": {},
   "outputs": [],
   "source": [
    "# print([p for p in env.physics.named.model._asdict().keys() if 'jnt' in p])\n",
    "# env.physics.named.data.xpos"
   ]
  },
  {
   "cell_type": "code",
   "execution_count": 4,
   "metadata": {},
   "outputs": [],
   "source": [
    "def get_bone_distance(physics, joint_pair):\n",
    "    joint0 = physics.named.data.site_xpos[joint_pair[0]].copy()\n",
    "    joint1 = physics.named.data.site_xpos[joint_pair[1]].copy()\n",
    "    length = np.sqrt(np.sum((joint0 - joint1)**2))\n",
    "    return length\n",
    "\n",
    "def get_bone_ratios(bone_dict):\n",
    "    n_bones = len(bone_dict.keys())\n",
    "    ratio_mat = np.zeros((n_bones,n_bones))\n",
    "    ratio_dict = {}\n",
    "    for i, (bone0, length0) in enumerate(bone_dict.items()):\n",
    "        for j, (bone1, length1) in enumerate(bone_dict.items()):\n",
    "            ratio = length0/length1\n",
    "            ratio_mat[i, j] = ratio\n",
    "            ratio_dict[bone0 + '-' + bone1] = ratio\n",
    "            \n",
    "    return ratio_dict, ratio_mat\n",
    "\n",
    "def get_skull_dims(physics):\n",
    "    atlas_pos = physics.named.data.xpos['vertebra_atlant'].copy()\n",
    "    print(atlas_pos)\n",
    "    T0_pos = physics.named.data.geom_xpos['skull_T0_collision'].copy()\n",
    "    length = np.sqrt(np.sum((atlas_pos - T0_pos)**2))*1000\n",
    "    \n",
    "    eyeL_pos = physics.named.data.geom_xpos['eye_L_collision'].copy()\n",
    "    eyeR_pos = physics.named.data.geom_xpos['eye_R_collision'].copy()\n",
    "    width = np.sqrt(np.sum((eyeL_pos - eyeR_pos)**2))*1000\n",
    "    return {'length': length, 'width': width}\n"
   ]
  },
  {
   "cell_type": "markdown",
   "metadata": {},
   "source": [
    "## Apply global downscaling, and long-bone length matching"
   ]
  },
  {
   "cell_type": "code",
   "execution_count": 5,
   "metadata": {},
   "outputs": [
    {
     "name": "stdout",
     "output_type": "stream",
     "text": [
      "Model lengths: {'humerus': 36.78314831549905, 'radius': 35.4400902933387, 'femur': 48.40439540471056, 'tibia': 52.378014851966284, 'metatarsal': 26.59869915701915, 'hand': 11.874342087037919}\n",
      "Bone lengths: {'humerus': 30.0, 'radius': 29.6, 'femur': 36.5, 'tibia': 42.8, 'metatarsal': 23.4, 'hand': 9.0}\n",
      "Ratio of bone_lengths to model_lengths [0.8155908717405551, 0.8352123190149886, 0.754063751748626, 0.8171367341997169, 0.8797422709232363, 0.757936728959867]\n",
      "[8.69214832e-02 2.20278463e-08 8.62507469e-02]\n",
      "model_dims {'length': 61.92706780094946, 'width': 23.0}\n",
      "[array([0.76541651]), array([0.87826087])]\n"
     ]
    },
    {
     "ename": "UnboundLocalError",
     "evalue": "local variable 's' referenced before assignment",
     "output_type": "error",
     "traceback": [
      "\u001b[0;31m---------------------------------------------------------------------------\u001b[0m",
      "\u001b[0;31mUnboundLocalError\u001b[0m                         Traceback (most recent call last)",
      "\u001b[0;32m<ipython-input-5-eb0c6eb004bf>\u001b[0m in \u001b[0;36m<module>\u001b[0;34m\u001b[0m\n\u001b[1;32m     86\u001b[0m                     \u001b[0ms\u001b[0m\u001b[0;34m.\u001b[0m\u001b[0mpos\u001b[0m\u001b[0;34m[\u001b[0m\u001b[0mi\u001b[0m\u001b[0;34m]\u001b[0m \u001b[0;34m*=\u001b[0m \u001b[0mratio\u001b[0m\u001b[0;34m[\u001b[0m\u001b[0mi\u001b[0m\u001b[0;34m]\u001b[0m\u001b[0;34m\u001b[0m\u001b[0;34m\u001b[0m\u001b[0m\n\u001b[1;32m     87\u001b[0m     \u001b[0;32mreturn\u001b[0m \u001b[0mmodel\u001b[0m\u001b[0;34m\u001b[0m\u001b[0;34m\u001b[0m\u001b[0m\n\u001b[0;32m---> 88\u001b[0;31m \u001b[0mmodel\u001b[0m \u001b[0;34m=\u001b[0m \u001b[0mscale_skull\u001b[0m\u001b[0;34m(\u001b[0m\u001b[0mmodel\u001b[0m\u001b[0;34m)\u001b[0m\u001b[0;34m\u001b[0m\u001b[0;34m\u001b[0m\u001b[0m\n\u001b[0m\u001b[1;32m     89\u001b[0m \u001b[0mwrite_model\u001b[0m\u001b[0;34m(\u001b[0m\u001b[0mmodel\u001b[0m\u001b[0;34m,\u001b[0m \u001b[0mtemp_model_path\u001b[0m\u001b[0;34m)\u001b[0m\u001b[0;34m\u001b[0m\u001b[0;34m\u001b[0m\u001b[0m\n",
      "\u001b[0;32m<ipython-input-5-eb0c6eb004bf>\u001b[0m in \u001b[0;36mscale_skull\u001b[0;34m(model)\u001b[0m\n\u001b[1;32m     73\u001b[0m                 \u001b[0;32mif\u001b[0m \u001b[0mg\u001b[0m\u001b[0;34m.\u001b[0m\u001b[0mpos\u001b[0m \u001b[0;32mis\u001b[0m \u001b[0;32mnot\u001b[0m \u001b[0;32mNone\u001b[0m\u001b[0;34m:\u001b[0m\u001b[0;34m\u001b[0m\u001b[0;34m\u001b[0m\u001b[0m\n\u001b[1;32m     74\u001b[0m                     \u001b[0mg\u001b[0m\u001b[0;34m.\u001b[0m\u001b[0mpos\u001b[0m\u001b[0;34m[\u001b[0m\u001b[0mi\u001b[0m\u001b[0;34m]\u001b[0m \u001b[0;34m*=\u001b[0m \u001b[0mratio\u001b[0m\u001b[0;34m[\u001b[0m\u001b[0mi\u001b[0m\u001b[0;34m]\u001b[0m\u001b[0;34m\u001b[0m\u001b[0;34m\u001b[0m\u001b[0m\n\u001b[0;32m---> 75\u001b[0;31m                 \u001b[0;32mif\u001b[0m \u001b[0;34m'eye'\u001b[0m \u001b[0;32min\u001b[0m \u001b[0ms\u001b[0m\u001b[0;34m.\u001b[0m\u001b[0mname\u001b[0m\u001b[0;34m:\u001b[0m\u001b[0;34m\u001b[0m\u001b[0;34m\u001b[0m\u001b[0m\n\u001b[0m\u001b[1;32m     76\u001b[0m                     \u001b[0;32mcontinue\u001b[0m\u001b[0;34m\u001b[0m\u001b[0;34m\u001b[0m\u001b[0m\n\u001b[1;32m     77\u001b[0m                 \u001b[0;32mif\u001b[0m \u001b[0mg\u001b[0m\u001b[0;34m.\u001b[0m\u001b[0msize\u001b[0m \u001b[0;32mis\u001b[0m \u001b[0;32mnot\u001b[0m \u001b[0;32mNone\u001b[0m\u001b[0;34m:\u001b[0m\u001b[0;34m\u001b[0m\u001b[0;34m\u001b[0m\u001b[0m\n",
      "\u001b[0;31mUnboundLocalError\u001b[0m: local variable 's' referenced before assignment"
     ]
    }
   ],
   "source": [
    "model = load_model(base_model_path)\n",
    "write_model(base_model, temp_model_path)\n",
    "# Globally scale down the model\n",
    "def scale_model(model, global_scale_ratio=.82):\n",
    "    for g in model.find_all('geom'):\n",
    "        if g.pos is not None and 'eye' not in g.name:\n",
    "            g.pos *= global_scale_ratio\n",
    "    for b in model.find_all('body'):\n",
    "        if b.pos is not None and 'eye' not in g.name:\n",
    "            b.pos *= global_scale_ratio\n",
    "    for s in model.find_all('site'):\n",
    "        if s.pos is not None and 'eye' not in g.name:\n",
    "            s.pos *= global_scale_ratio\n",
    "    return model\n",
    "# model = scale_model(model)\n",
    "write_model(model, temp_model_path)\n",
    "\n",
    "env = suite.load(domain_name=\"rat\", task_name=\"stand\")\n",
    "model_lengths = {k: get_bone_distance(env.physics, jp)*1000 for k, jp in joint_pairs.items()}\n",
    "length_difference = {k: bone_lengths[k] - model_lengths[k] for k in model_lengths.keys()}\n",
    "bone_ratios, bone_ratio_mat = get_bone_ratios(bone_lengths)\n",
    "model_ratios, model_ratio_mat = get_bone_ratios(model_lengths)\n",
    "print('Model lengths:', model_lengths)\n",
    "print('Bone lengths:', bone_lengths)\n",
    "ratio = [bone_lengths[k]/model_lengths[k] for k in model_lengths.keys()]\n",
    "print('Ratio of bone_lengths to model_lengths', ratio)\n",
    "\n",
    "# Scale particular arm and leg joints to match literature\n",
    "def scale_arms_and_legs(model):\n",
    "    env = suite.load(domain_name=\"rat\", task_name=\"stand\")\n",
    "    model_lengths = {k: get_bone_distance(env.physics, jp)*1000 for k, jp in joint_pairs.items()}\n",
    "    ratio = [bone_lengths[k]/model_lengths[k] for k in model_lengths.keys()]\n",
    "    model_name_pairs = {'humerus': ['elbow', 'humerus', 'lower_arm'],\n",
    "                   'radius': ['wrist', 'radius', 'ulna', 'hand'],\n",
    "                   'femur': ['knee', 'upper_leg_L0_collision', 'upper_leg_R0_collision', 'lower_leg'],\n",
    "                   'tibia': ['ankle', 'foot'],\n",
    "                   'metatarsal': ['toe'],\n",
    "                   'hand': ['finger', 'hand_L_collision', 'hand_R_collision']}\n",
    "    for i, (bone, model_id) in enumerate(model_name_pairs.items()):\n",
    "        for g in model.find_all('geom'):\n",
    "            if any(part in g.name for part in model_id):\n",
    "                if bone == 'radius' and any(part in g.name for part in ['hand_L_collision', 'hand_R_collision']):\n",
    "                    continue\n",
    "                if g.pos is not None:\n",
    "                    g.pos *= ratio[i]\n",
    "                if g.size is not None:\n",
    "                    g.size *= ratio[i]\n",
    "        for b in model.find_all('body'):\n",
    "            if any(part in b.name for part in model_id):\n",
    "                if b.pos is not None:\n",
    "                    b.pos *= ratio[i]\n",
    "        for s in model.find_all('site'):\n",
    "            if any(part in s.name for part in model_id):\n",
    "                if s.pos is not None:\n",
    "                    s.pos *= ratio[i]\n",
    "    return model\n",
    "model = scale_arms_and_legs(model)\n",
    "write_model(model, temp_model_path)\n",
    "\n",
    "\n",
    "# Scale particular arm and leg joints to match literature\n",
    "def scale_skull(model):\n",
    "    env = suite.load(domain_name=\"rat\", task_name=\"stand\")\n",
    "    model_dims = get_skull_dims(env.physics)\n",
    "    ratio = [skull_dims[k]/model_dims[k] for k in model_dims.keys()]\n",
    "    print('model_dims', model_dims)\n",
    "    print(ratio)\n",
    "    model_name_pairs = {'length': ['jaw', 'skull', 'eye'],\n",
    "                       'width': ['jaw', 'skull', 'eye']}\n",
    "    for i, (bone, model_id) in enumerate(model_name_pairs.items()):\n",
    "        for g in model.find_all('geom'):\n",
    "            if any(part in g.name for part in model_id):\n",
    "                if g.pos is not None:\n",
    "                    g.pos[i] *= ratio[i]\n",
    "                if 'eye' in g.name:\n",
    "                    continue\n",
    "                if g.size is not None:\n",
    "                    g.size[i] *= ratio[i]\n",
    "        for b in model.find_all('body'):\n",
    "            if any(part in b.name for part in model_id):\n",
    "                if b.pos is not None:\n",
    "                    b.pos[i] *= ratio[i]\n",
    "        for s in model.find_all('site'):\n",
    "            if any(part in s.name for part in model_id):\n",
    "                if s.pos is not None:\n",
    "                    s.pos[i] *= ratio[i]\n",
    "    return model\n",
    "model = scale_skull(model)\n",
    "write_model(model, temp_model_path)"
   ]
  },
  {
   "cell_type": "markdown",
   "metadata": {},
   "source": [
    "## Check to make sure everything worked as planned"
   ]
  },
  {
   "cell_type": "code",
   "execution_count": null,
   "metadata": {},
   "outputs": [],
   "source": [
    "env = suite.load(domain_name=\"rat\", task_name=\"stand\")\n",
    "model_lengths = {k: get_bone_distance(env.physics, jp)*1000 for k, jp in joint_pairs.items()}\n",
    "length_difference = {k: bone_lengths[k] - model_lengths[k] for k in model_lengths.keys()}\n",
    "bone_ratios, bone_ratio_mat = get_bone_ratios(bone_lengths)\n",
    "model_ratios, model_ratio_mat = get_bone_ratios(model_lengths)\n",
    "print('Model lengths:', model_lengths)\n",
    "print('Bone lengths:', bone_lengths)\n",
    "ratio = [bone_lengths[k]/model_lengths[k] for k in model_lengths.keys()]\n",
    "print('Ratio of bone_lengths to model_lengths', ratio)\n",
    "\n",
    "\n",
    "model_dims = get_skull_dims(env.physics)\n",
    "ratio = [skull_dims[k]/model_dims[k] for k in model_dims.keys()]\n",
    "print('Ratio of bone_lengths to model_lengths', ratio)"
   ]
  },
  {
   "cell_type": "markdown",
   "metadata": {},
   "source": [
    "## View the model"
   ]
  },
  {
   "cell_type": "code",
   "execution_count": null,
   "metadata": {},
   "outputs": [],
   "source": [
    "view_model()"
   ]
  }
 ],
 "metadata": {
  "kernelspec": {
   "display_name": "Python 3",
   "language": "python",
   "name": "python3"
  },
  "language_info": {
   "codemirror_mode": {
    "name": "ipython",
    "version": 3
   },
   "file_extension": ".py",
   "mimetype": "text/x-python",
   "name": "python",
   "nbconvert_exporter": "python",
   "pygments_lexer": "ipython3",
   "version": "3.6.7"
  }
 },
 "nbformat": 4,
 "nbformat_minor": 2
}
