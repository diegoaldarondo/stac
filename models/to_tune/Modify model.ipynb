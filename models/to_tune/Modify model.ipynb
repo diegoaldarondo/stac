{
 "cells": [
  {
   "cell_type": "markdown",
   "metadata": {},
   "source": [
    "# Rescale rat model to match Long-Evans rat skeletal parameters\n",
    "\n",
    "### Changes include\n",
    "* Global scaling to approximate average rat size.\n",
    "* Rescaling of long bones to measured lengths to preserve proportions. "
   ]
  },
  {
   "cell_type": "code",
   "execution_count": 1,
   "metadata": {},
   "outputs": [],
   "source": [
    "from dm_control import mjcf\n",
    "from dm_control import viewer\n",
    "from dm_control import mujoco\n",
    "from dm_control import suite\n",
    "import numpy as np\n",
    "import re"
   ]
  },
  {
   "cell_type": "markdown",
   "metadata": {},
   "source": [
    "## Define useful parameters and functions"
   ]
  },
  {
   "cell_type": "code",
   "execution_count": 2,
   "metadata": {},
   "outputs": [],
   "source": [
    "base_model_path = '/home/diego/code/olveczky/dm/stac/models/to_tune/rat_may17.xml'\n",
    "# temp_model_path is the model used by .../dm_control/suite/rat.py for easy iteration.\n",
    "temp_model_path = '/home/diego/.envs/mujoco200_3.7/lib/python3.6/site-packages/dm_control/suite/rat_temp.xml'\n",
    "\n",
    "def view_model():\n",
    "    # Load an environment from the Control Suite.\n",
    "    env = suite.load(domain_name=\"rat\", task_name=\"stand\")\n",
    "    # Launch the viewer application.\n",
    "    viewer.launch(env)\n",
    "\n",
    "def load_model(model_path):\n",
    "    return mjcf.from_path(model_path)\n",
    "\n",
    "def write_model(model, save_path):\n",
    "    s = model.to_xml_string()\n",
    "    s = re.sub('rat_skin.*skn', 'rat_skin_walker.skn', s)\n",
    "    with open(save_path , 'w') as f:\n",
    "        f.write(s)\n",
    "\n",
    "# Save measured data (mm) and the bone-site pairs they correspond to \n",
    "bone_lengths = {'humerus': 30.0,\n",
    "                'radius': 29.6,\n",
    "                'femur': 36.5,\n",
    "                'tibia': 42.8,\n",
    "                'metatarsal': 23.4,\n",
    "                'hand': 9.0}\n",
    "joint_pairs = {'humerus': ['shoulder_L', 'elbow_L'],\n",
    "               'radius': ['elbow_L', 'wrist_L'],\n",
    "               'femur': ['hip_L', 'knee_L'],\n",
    "               'tibia': ['knee_L', 'ankle_L'],\n",
    "               'metatarsal': ['ankle_L', 'toe_L'],\n",
    "               'hand': ['wrist_L', 'finger_L']}\n",
    "\n",
    "base_model = load_model(base_model_path)\n",
    "write_model(base_model, temp_model_path)\n"
   ]
  },
  {
   "cell_type": "markdown",
   "metadata": {},
   "source": [
    "## View the base model"
   ]
  },
  {
   "cell_type": "code",
   "execution_count": 3,
   "metadata": {},
   "outputs": [],
   "source": [
    "def get_bone_distance(physics, joint_pair):\n",
    "    joint0 = physics.named.data.site_xpos[joint_pair[0]].copy()\n",
    "    joint1 = physics.named.data.site_xpos[joint_pair[1]].copy()\n",
    "    length = np.sqrt(np.sum((joint0 - joint1)**2))\n",
    "    return length\n",
    "\n",
    "def get_bone_ratios(bone_dict):\n",
    "    n_bones = len(bone_dict.keys())\n",
    "    ratio_mat = np.zeros((n_bones,n_bones))\n",
    "    ratio_dict = {}\n",
    "    for i, (bone0, length0) in enumerate(bone_dict.items()):\n",
    "        for j, (bone1, length1) in enumerate(bone_dict.items()):\n",
    "            ratio = length0/length1\n",
    "            ratio_mat[i, j] = ratio\n",
    "            ratio_dict[bone0 + '-' + bone1] = ratio\n",
    "            \n",
    "    return ratio_dict, ratio_mat"
   ]
  },
  {
   "cell_type": "markdown",
   "metadata": {},
   "source": [
    "## Apply global downscaling, and long-bone length matching"
   ]
  },
  {
   "cell_type": "code",
   "execution_count": 4,
   "metadata": {},
   "outputs": [
    {
     "name": "stdout",
     "output_type": "stream",
     "text": [
      "{'humerus': 30.162181618709212, 'radius': 29.060874040537733, 'femur': 39.69160423186266, 'tibia': 42.94997217861235, 'metatarsal': 21.810933308755704, 'hand': 9.736960511371093}\n",
      "{'humerus': 30.0, 'radius': 29.6, 'femur': 36.5, 'tibia': 42.8, 'metatarsal': 23.4, 'hand': 10.0}\n",
      "[0.9946230143177504, 1.018551608554864, 0.919589941156861, 0.9965082124386793, 1.0728564279551662, 1.0270145378859987]\n"
     ]
    }
   ],
   "source": [
    "base_model = load_model(base_model_path)\n",
    "write_model(base_model, temp_model_path)\n",
    "# Globally scale down the model\n",
    "def scale_model(model, global_scale_ratio=.82):\n",
    "    for g in model.find_all('geom'):\n",
    "        if g.pos is not None and 'eye' not in g.name:\n",
    "            g.pos *= global_scale_ratio\n",
    "    for b in model.find_all('body'):\n",
    "        if b.pos is not None and 'eye' not in g.name:\n",
    "            b.pos *= global_scale_ratio\n",
    "    for s in model.find_all('site'):\n",
    "        if s.pos is not None and 'eye' not in g.name:\n",
    "            s.pos *= global_scale_ratio\n",
    "    return model\n",
    "model = scale_model(base_model)\n",
    "write_model(model, temp_model_path)\n",
    "\n",
    "env = suite.load(domain_name=\"rat\", task_name=\"stand\")\n",
    "model_lengths = {k: get_bone_distance(env.physics, jp)*1000 for k, jp in joint_pairs.items()}\n",
    "length_difference = {k: bone_lengths[k] - model_lengths[k] for k in model_lengths.keys()}\n",
    "bone_ratios, bone_ratio_mat = get_bone_ratios(bone_lengths)\n",
    "model_ratios, model_ratio_mat = get_bone_ratios(model_lengths)\n",
    "print('Model lengths:', model_lengths)\n",
    "print('Bone lengths:', bone_lengths)\n",
    "ratio = [bone_lengths[k]/model_lengths[k] for k in model_lengths.keys()]\n",
    "print('Ratio of bone_lengths to model_lengths', ratio)\n",
    "\n",
    "# Scale particular arm and leg joints to match literature\n",
    "def scale_arms_and_legs(model):\n",
    "    env = suite.load(domain_name=\"rat\", task_name=\"stand\")\n",
    "    model_lengths = {k: get_bone_distance(env.physics, jp)*1000 for k, jp in joint_pairs.items()}\n",
    "    ratio = [bone_lengths[k]/model_lengths[k] for k in model_lengths.keys()]\n",
    "    model_name_pairs = {'humerus': ['elbow', 'humerus', 'lower_arm'],\n",
    "                   'radius': ['wrist', 'radius', 'ulna', 'hand'],\n",
    "                   'femur': ['knee', 'upper_leg_L0_collision', 'upper_leg_R0_collision', 'lower_leg'],\n",
    "                   'tibia': ['ankle', 'foot'],\n",
    "                   'metatarsal': ['toe'],\n",
    "                   'hand': ['finger', 'hand_L_collision', 'hand_R_collision']}\n",
    "    for i, (bone, model_id) in enumerate(model_name_pairs.items()):\n",
    "        for g in model.find_all('geom'):\n",
    "            if any(part in g.name for part in model_id):\n",
    "                if bone == 'radius' and any(part in g.name for part in ['hand_L_collision', 'hand_R_collision']):\n",
    "                    continue\n",
    "                if g.pos is not None:\n",
    "                    g.pos *= ratio[i]\n",
    "                if g.size is not None:\n",
    "                    g.size *= ratio[i]\n",
    "        for b in model.find_all('body'):\n",
    "            if any(part in b.name for part in model_id):\n",
    "                if b.pos is not None:\n",
    "                    b.pos *= ratio[i]\n",
    "        for s in model.find_all('site'):\n",
    "            if any(part in s.name for part in model_id):\n",
    "                if s.pos is not None:\n",
    "                    s.pos *= ratio[i]\n",
    "    return model\n",
    "model = scale_arms_and_legs(model)\n",
    "write_model(model, temp_model_path)"
   ]
  },
  {
   "cell_type": "markdown",
   "metadata": {},
   "source": [
    "## Check to make sure everything worked as planned"
   ]
  },
  {
   "cell_type": "code",
   "execution_count": 5,
   "metadata": {},
   "outputs": [
    {
     "name": "stdout",
     "output_type": "stream",
     "text": [
      "{'humerus': 30.0, 'radius': 29.599999999999994, 'femur': 36.5, 'tibia': 42.8, 'metatarsal': 23.399999999999995, 'hand': 9.999999999999995}\n",
      "{'humerus': 30.0, 'radius': 29.6, 'femur': 36.5, 'tibia': 42.8, 'metatarsal': 23.4, 'hand': 10.0}\n",
      "[1.0, 1.0000000000000002, 1.0, 1.0, 1.0000000000000002, 1.0000000000000004]\n"
     ]
    }
   ],
   "source": [
    "env = suite.load(domain_name=\"rat\", task_name=\"stand\")\n",
    "model_lengths = {k: get_bone_distance(env.physics, jp)*1000 for k, jp in joint_pairs.items()}\n",
    "length_difference = {k: bone_lengths[k] - model_lengths[k] for k in model_lengths.keys()}\n",
    "bone_ratios, bone_ratio_mat = get_bone_ratios(bone_lengths)\n",
    "model_ratios, model_ratio_mat = get_bone_ratios(model_lengths)\n",
    "print('Model lengths:', model_lengths)\n",
    "print('Bone lengths:', bone_lengths)\n",
    "ratio = [bone_lengths[k]/model_lengths[k] for k in model_lengths.keys()]\n",
    "print('Ratio of bone_lengths to model_lengths', ratio)"
   ]
  },
  {
   "cell_type": "markdown",
   "metadata": {},
   "source": [
    "## View the model"
   ]
  },
  {
   "cell_type": "code",
   "execution_count": 6,
   "metadata": {},
   "outputs": [],
   "source": [
    "view_model()"
   ]
  }
 ],
 "metadata": {
  "kernelspec": {
   "display_name": "Python 3",
   "language": "python",
   "name": "python3"
  },
  "language_info": {
   "codemirror_mode": {
    "name": "ipython",
    "version": 3
   },
   "file_extension": ".py",
   "mimetype": "text/x-python",
   "name": "python",
   "nbconvert_exporter": "python",
   "pygments_lexer": "ipython3",
   "version": "3.6.7"
  }
 },
 "nbformat": 4,
 "nbformat_minor": 2
}
