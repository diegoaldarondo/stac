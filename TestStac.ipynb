{
 "cells": [
  {
   "cell_type": "code",
   "execution_count": 1,
   "metadata": {},
   "outputs": [
    {
     "data": {
      "text/plain": [
       "<module 'stac' from '/home/diego/code/olveczky/stac/stac.py'>"
      ]
     },
     "execution_count": 1,
     "metadata": {},
     "output_type": "execute_result"
    }
   ],
   "source": [
    "import util\n",
    "import stac\n",
    "from dm_control import mujoco\n",
    "from dm_control import mjcf\n",
    "from dm_control import suite\n",
    "from dm_control import viewer\n",
    "from dm_control import composer\n",
    "from dm_control.rl import control\n",
    "from dm_control.locomotion.walkers import base\n",
    "import multiprocessing as mp\n",
    "\n",
    "from dm_control.mujoco.wrapper.mjbindings import mjlib\n",
    "import numpy as np\n",
    "import matplotlib\n",
    "%matplotlib notebook\n",
    "import matplotlib.pyplot as plt\n",
    "from matplotlib import animation, rc\n",
    "from IPython.display import HTML\n",
    "import imp \n",
    "import rodent_environments\n",
    "imp.reload(util)\n",
    "imp.reload(rodent_environments)\n",
    "imp.reload(stac)"
   ]
  },
  {
   "cell_type": "markdown",
   "metadata": {},
   "source": [
    "# Load Data and model "
   ]
  },
  {
   "cell_type": "code",
   "execution_count": null,
   "metadata": {},
   "outputs": [],
   "source": [
    "# Pathing\n",
    "model_path = \"/home/diego/code/olveczky/stac/ratMocap/models/rat.xml\"\n",
    "data_path = \"/home/diego/code/olveczky/stac/ratMocap/dataInput/nolj_Recording_day2_overnight5_nolj_imputed_JDM33.mat\"\n",
    "\n",
    "# Load\n",
    "kp_data, kp_names = util.load_kp_data_from_file(data_path, struct_name='markers_aligned_preproc');\n",
    "print(\"Keypoint data is shape: \", kp_data.shape)\n",
    "print(\"Keypoint names are: \", kp_names)\n",
    "kp_data = kp_data[100000::10,:]/1000\n",
    "# Construct model and physics\n",
    "rat = util.RatWithMocapSites(model_path, kp_data, kp_names)\n",
    "skeleton_spine_length = np.sqrt(np.sum((rat.physics.named.data.xpos[2] - rat.physics.named.data.xpos[4])**2))\n",
    "mocap_spine_length = np.sqrt(np.sum((np.mean(kp_data, axis=0)[9:12] - np.mean(kp_data, axis=0)[12:15])**2))\n",
    "factor = mocap_spine_length/skeleton_spine_length\n",
    "factor = 1.9\n",
    "kp_data *= factor\n",
    "kp_data[:,2::3] += rat.physics.named.data.xpos[4][2] + .01\n",
    "print(factor)\n",
    "\n"
   ]
  },
  {
   "cell_type": "code",
   "execution_count": 2,
   "metadata": {},
   "outputs": [
    {
     "name": "stdout",
     "output_type": "stream",
     "text": [
      "Keypoint data is shape:  (540000, 60)\n",
      "Keypoint names are:  ['ArmL', 'ArmR', 'ElbowL', 'ElbowR', 'HeadB', 'HeadF', 'HeadL', 'HipL', 'HipR', 'KneeL', 'KneeR', 'Offset1', 'Offset2', 'ShinL', 'ShinR', 'ShoulderL', 'ShoulderR', 'SpineF', 'SpineL', 'SpineM']\n"
     ]
    }
   ],
   "source": [
    "# Load\n",
    "# data_path = \"/home/diego/code/olveczky/stac/ratMocap/dataInput/nolj_Recording_day2_overnight5_nolj_imputed_JDM33.mat\"\n",
    "data_path = \"/home/diego/code/olveczky/stac/ratMocap/dataInput/nolj_Recording_day8_caff3_nolj_imputed.mat\"\n",
    "kp_data, kp_names = util.load_kp_data_from_file(data_path, struct_name='markers_preproc');\n",
    "print(\"Keypoint data is shape: \", kp_data.shape)\n",
    "print(\"Keypoint names are: \", kp_names)\n",
    "factor = 1.5\n",
    "start_frame = 30900\n",
    "skip = 10\n",
    "kp_data = kp_data[start_frame::skip,:]/1000*factor\n",
    "kp_data[:,2::3] -= .02"
   ]
  },
  {
   "cell_type": "markdown",
   "metadata": {},
   "source": [
    "# Get initial Dm"
   ]
  },
  {
   "cell_type": "code",
   "execution_count": null,
   "metadata": {},
   "outputs": [],
   "source": [
    "imp.reload(stac)\n",
    "imp.reload(rodent_environments)\n",
    "env = rodent_environments.rodent_mocap(kp_data)\n",
    "viewer.launch(env)"
   ]
  },
  {
   "cell_type": "code",
   "execution_count": null,
   "metadata": {},
   "outputs": [
    {
     "name": "stdout",
     "output_type": "stream",
     "text": [
      "q-phase\n",
      "0\n",
      "10\n",
      "20\n",
      "30\n",
      "40\n",
      "50\n",
      "60\n",
      "70\n",
      "80\n",
      "90\n",
      "100\n",
      "110\n",
      "120\n",
      "130\n",
      "140\n",
      "150\n",
      "160\n",
      "170\n",
      "180\n",
      "190\n",
      "200\n",
      "210\n",
      "220\n",
      "230\n",
      "240\n",
      "250\n",
      "260\n",
      "270\n",
      "280\n",
      "290\n",
      "300\n",
      "310\n",
      "320\n"
     ]
    }
   ],
   "source": [
    "imp.reload(rodent_environments)\n",
    "imp.reload(stac)\n",
    "\n",
    "# Params\n",
    "_IS_LIMB = ['scapula', 'hip', 'toe', 'knee', 'ankle', 'shoulder', 'finger', 'elbow', 'wrist']\n",
    "n_sample_frames = 50\n",
    "n_frames_clip = 500\n",
    "n_iters = 1\n",
    "q_reg_coef = 0.\n",
    "m_reg_coef = .1\n",
    "\n",
    "# Initialize the rodent and environment \n",
    "env = rodent_environments.rodent_mocap(kp_data, n_frames_clip)\n",
    "initial_offsets = np.copy(env.physics.bind(env.task._walker.body_sites).pos[:])\n",
    "limbs = np.zeros_like(env.physics.named.data.qpos[:], dtype='int32')\n",
    "for i, name in enumerate(env.physics.named.data.qpos.axes.row.names):\n",
    "    if any(part in name for part in _IS_LIMB):\n",
    "        limbs[i] = 1\n",
    "head_body = ~limbs\n",
    "# Iterate between q and m phases \n",
    "q = []\n",
    "for iteration in range(n_iters):\n",
    "    q = []\n",
    "    # Optimize the root of the first frame\n",
    "    stac.q_phase(env.physics, env.task.kp_data[0,:], env.task._walker.body_sites, root_only=True)\n",
    "#     stac.q_phase(env.physics, env.task.kp_data[0,:], 0, env.task._walker.body_sites)\n",
    "    q.append(env.physics.named.data.qpos[:].copy())\n",
    "    \n",
    "    # m on first \n",
    "    stac.m_phase(env.physics, env.task.kp_data, env.task._walker.body_sites, [0], q, initial_offsets, reg_coef=m_reg_coef, maxiter=20)\n",
    "    q = []\n",
    "    \n",
    "    # Find the frames to use in the optimization.\n",
    "    time_indices = np.random.randint(0, n_frames_clip, n_sample_frames)\n",
    "    \n",
    "    # Q-phase across the clip: optimize joint angles\n",
    "    print('q-phase')\n",
    "    for i in range(n_frames_clip):\n",
    "        if np.mod(i,10) == 0: print(i)\n",
    "        stac.q_phase(env.physics, env.task.kp_data[i,:], env.task._walker.body_sites, reg_coef=q_reg_coef)\n",
    "        stac.q_phase(env.physics, env.task.kp_data[i,:], env.task._walker.body_sites, reg_coef=q_reg_coef, qs_to_opt=limbs)\n",
    "        retval = env.physics.named.data.qpos[:]\n",
    "        q.append(retval.copy())\n",
    "    \n",
    "    # M-phase across the subsampling: optimize offsets\n",
    "    print('m-phase')\n",
    "    stac.m_phase(env.physics, env.task.kp_data, env.task._walker.body_sites, time_indices, q, initial_offsets, reg_coef=m_reg_coef)\n",
    "    \n",
    "    # Q-phase across the clip: optimize joint angles\n",
    "    q = []\n",
    "    x = []\n",
    "    print('q-phase')\n",
    "    for i in range(n_frames_clip):\n",
    "        if np.mod(i,10) == 0: print(i)\n",
    "        stac.q_phase(env.physics, env.task.kp_data[i,:], env.task._walker.body_sites, reg_coef=q_reg_coef)\n",
    "        stac.q_phase(env.physics, env.task.kp_data[i,:], env.task._walker.body_sites, reg_coef=q_reg_coef, qs_to_opt=limbs)\n",
    "        retval = env.physics.named.data.qpos[:]\n",
    "        q.append(retval.copy())\n",
    "        retval = env.physics.named.data.xpos[:]\n",
    "        x.append(retval.copy())\n",
    "\n",
    "# Prep the environment for updating the body\n",
    "env.task.precomp_qpos = q\n",
    "env.task.precomp_xpos = x\n",
    "\n",
    "# GO! \n",
    "env.task.render_video=True\n",
    "viewer.launch(env)\n",
    "env.task.V.release()"
   ]
  },
  {
   "cell_type": "code",
   "execution_count": 145,
   "metadata": {},
   "outputs": [
    {
     "data": {
      "text/plain": [
       "FieldIndexer(cam_bodyid):\n",
       "0        top_camera [0]\n",
       "1       walker/back [2]\n",
       "2       walker/side [2]\n",
       "3 walker/egocentric [55]"
      ]
     },
     "execution_count": 145,
     "metadata": {},
     "output_type": "execute_result"
    }
   ],
   "source": [
    "\n",
    "env.physics.named.model._asdict()['cam_bodyid']"
   ]
  },
  {
   "cell_type": "code",
   "execution_count": 229,
   "metadata": {},
   "outputs": [
    {
     "ename": "AttributeError",
     "evalue": "'NoneType' object has no attribute 'release'",
     "output_type": "error",
     "traceback": [
      "\u001b[0;31m---------------------------------------------------------------------------\u001b[0m",
      "\u001b[0;31mAttributeError\u001b[0m                            Traceback (most recent call last)",
      "\u001b[0;32m<ipython-input-229-a0c32bd64162>\u001b[0m in \u001b[0;36m<module>\u001b[0;34m\u001b[0m\n\u001b[1;32m      6\u001b[0m \u001b[0menv\u001b[0m\u001b[0;34m.\u001b[0m\u001b[0mtask\u001b[0m\u001b[0;34m.\u001b[0m\u001b[0mV\u001b[0m \u001b[0;34m=\u001b[0m \u001b[0;32mNone\u001b[0m\u001b[0;34m\u001b[0m\u001b[0;34m\u001b[0m\u001b[0m\n\u001b[1;32m      7\u001b[0m \u001b[0mviewer\u001b[0m\u001b[0;34m.\u001b[0m\u001b[0mlaunch\u001b[0m\u001b[0;34m(\u001b[0m\u001b[0menv\u001b[0m\u001b[0;34m)\u001b[0m\u001b[0;34m\u001b[0m\u001b[0;34m\u001b[0m\u001b[0m\n\u001b[0;32m----> 8\u001b[0;31m \u001b[0menv\u001b[0m\u001b[0;34m.\u001b[0m\u001b[0mtask\u001b[0m\u001b[0;34m.\u001b[0m\u001b[0mV\u001b[0m\u001b[0;34m.\u001b[0m\u001b[0mrelease\u001b[0m\u001b[0;34m(\u001b[0m\u001b[0;34m)\u001b[0m\u001b[0;34m\u001b[0m\u001b[0;34m\u001b[0m\u001b[0m\n\u001b[0m",
      "\u001b[0;31mAttributeError\u001b[0m: 'NoneType' object has no attribute 'release'"
     ]
    }
   ],
   "source": [
    "imp.reload(rodent_environments)\n",
    "env = rodent_environments.rodent_mocap(kp_data, n_frames_clip)\n",
    "env.task.render_video=False\n",
    "env.task.precomp_qpos = q\n",
    "env.task.precomp_xpos = x\n",
    "env.task.V = None\n",
    "viewer.launch(env)\n",
    "env.task.V.release()"
   ]
  },
  {
   "cell_type": "code",
   "execution_count": null,
   "metadata": {},
   "outputs": [],
   "source": [
    "env.task"
   ]
  },
  {
   "cell_type": "code",
   "execution_count": 207,
   "metadata": {},
   "outputs": [],
   "source": [
    "env.task.V.release()"
   ]
  },
  {
   "cell_type": "code",
   "execution_count": 225,
   "metadata": {},
   "outputs": [
    {
     "data": {
      "text/plain": [
       "['world',\n",
       " 'rat/',\n",
       " 'rat/torso',\n",
       " 'rat/vertebra_1',\n",
       " 'rat/vertebra_2',\n",
       " 'rat/vertebra_3',\n",
       " 'rat/vertebra_4',\n",
       " 'rat/vertebra_5',\n",
       " 'rat/vertebra_6',\n",
       " 'rat/pelvis',\n",
       " 'rat/upper_leg_L',\n",
       " 'rat/lower_leg_L',\n",
       " 'rat/foot_L',\n",
       " 'rat/toe_L',\n",
       " 'rat/upper_leg_R',\n",
       " 'rat/lower_leg_R',\n",
       " 'rat/foot_R',\n",
       " 'rat/toe_R',\n",
       " 'rat/vertebra_C1',\n",
       " 'rat/vertebra_C2',\n",
       " 'rat/vertebra_C3',\n",
       " 'rat/vertebra_C4',\n",
       " 'rat/vertebra_C5',\n",
       " 'rat/vertebra_C6',\n",
       " 'rat/vertebra_C7',\n",
       " 'rat/vertebra_C8',\n",
       " 'rat/vertebra_C9',\n",
       " 'rat/vertebra_C10',\n",
       " 'rat/vertebra_C11',\n",
       " 'rat/vertebra_C12',\n",
       " 'rat/vertebra_C13',\n",
       " 'rat/vertebra_C14',\n",
       " 'rat/vertebra_C15',\n",
       " 'rat/vertebra_C16',\n",
       " 'rat/vertebra_C17',\n",
       " 'rat/vertebra_C18',\n",
       " 'rat/vertebra_C19',\n",
       " 'rat/vertebra_C20',\n",
       " 'rat/vertebra_C21',\n",
       " 'rat/vertebra_C22',\n",
       " 'rat/vertebra_C23',\n",
       " 'rat/vertebra_C24',\n",
       " 'rat/vertebra_C25',\n",
       " 'rat/vertebra_C26',\n",
       " 'rat/vertebra_C27',\n",
       " 'rat/vertebra_C28',\n",
       " 'rat/vertebra_C29',\n",
       " 'rat/vertebra_C30',\n",
       " 'rat/vertebra_cervical_5',\n",
       " 'rat/vertebra_cervical_4',\n",
       " 'rat/vertebra_cervical_3',\n",
       " 'rat/vertebra_cervical_2',\n",
       " 'rat/vertebra_cervical_1',\n",
       " 'rat/vertebra_axis',\n",
       " 'rat/vertebra_atlant',\n",
       " 'rat/skull',\n",
       " 'rat/jaw',\n",
       " 'rat/scapula_L',\n",
       " 'rat/upper_arm_L',\n",
       " 'rat/lower_arm_L',\n",
       " 'rat/hand_L',\n",
       " 'rat/finger_L',\n",
       " 'rat/scapula_R',\n",
       " 'rat/upper_arm_R',\n",
       " 'rat/lower_arm_R',\n",
       " 'rat/hand_R',\n",
       " 'rat/finger_R']"
      ]
     },
     "execution_count": 225,
     "metadata": {},
     "output_type": "execute_result"
    }
   ],
   "source": [
    "env.physics.named.data.xpos.axes.row.names"
   ]
  },
  {
   "cell_type": "code",
   "execution_count": 108,
   "metadata": {},
   "outputs": [
    {
     "data": {
      "text/plain": [
       "(67, 3)"
      ]
     },
     "execution_count": 108,
     "metadata": {},
     "output_type": "execute_result"
    }
   ],
   "source": [
    "env.physics.named.data.xpos[:].shape"
   ]
  },
  {
   "cell_type": "code",
   "execution_count": 84,
   "metadata": {},
   "outputs": [
    {
     "name": "stdout",
     "output_type": "stream",
     "text": [
      "yes\n"
     ]
    },
    {
     "data": {
      "text/plain": [
       "['walker/',\n",
       " 'walker/vertebra_1_extend',\n",
       " 'walker/vertebra_2_bend',\n",
       " 'walker/vertebra_3_twist',\n",
       " 'walker/vertebra_4_extend',\n",
       " 'walker/vertebra_5_bend',\n",
       " 'walker/vertebra_6_twist',\n",
       " 'walker/hip_L_supinate',\n",
       " 'walker/hip_L_abduct',\n",
       " 'walker/hip_L_extend',\n",
       " 'walker/knee_L',\n",
       " 'walker/ankle_L',\n",
       " 'walker/toe_L',\n",
       " 'walker/hip_R_supinate',\n",
       " 'walker/hip_R_abduct',\n",
       " 'walker/hip_R_extend',\n",
       " 'walker/knee_R',\n",
       " 'walker/ankle_R',\n",
       " 'walker/toe_R',\n",
       " 'walker/vertebra_C1_extend',\n",
       " 'walker/vertebra_C3_bend',\n",
       " 'walker/vertebra_C5_extend',\n",
       " 'walker/vertebra_C7_bend',\n",
       " 'walker/vertebra_C9_extend',\n",
       " 'walker/vertebra_C11_bend',\n",
       " 'walker/vertebra_C13_extend',\n",
       " 'walker/vertebra_C15_bend',\n",
       " 'walker/vertebra_C17_extend',\n",
       " 'walker/vertebra_C19_bend',\n",
       " 'walker/vertebra_C21_extend',\n",
       " 'walker/vertebra_C23_bend',\n",
       " 'walker/vertebra_C25_extend',\n",
       " 'walker/vertebra_C27_bend',\n",
       " 'walker/vertebra_C29_extend',\n",
       " 'walker/vertebra_cervical_5_extend',\n",
       " 'walker/vertebra_cervical_4_bend',\n",
       " 'walker/vertebra_cervical_3_twist',\n",
       " 'walker/vertebra_cervical_2_extend',\n",
       " 'walker/vertebra_cervical_1_bend',\n",
       " 'walker/vertebra_axis_twist',\n",
       " 'walker/vertebra_atlant_extend',\n",
       " 'walker/atlas',\n",
       " 'walker/mandible',\n",
       " 'walker/scapula_L_supinate',\n",
       " 'walker/scapula_L_abduct',\n",
       " 'walker/scapula_L_extend',\n",
       " 'walker/shoulder_L',\n",
       " 'walker/elbow_L',\n",
       " 'walker/wrist_L',\n",
       " 'walker/finger_L',\n",
       " 'walker/scapula_R_supinate',\n",
       " 'walker/scapula_R_abduct',\n",
       " 'walker/scapula_R_extend',\n",
       " 'walker/shoulder_R',\n",
       " 'walker/elbow_R',\n",
       " 'walker/wrist_R',\n",
       " 'walker/finger_R']"
      ]
     },
     "execution_count": 84,
     "metadata": {},
     "output_type": "execute_result"
    }
   ],
   "source": [
    "# env.task._walker._mjcf_root.find_all('body')\n",
    "if 'yellow' in ['yellow', 'red']: print('yes')\n",
    "env.physics.named.data.qpos.axes.row.names"
   ]
  },
  {
   "cell_type": "code",
   "execution_count": 16,
   "metadata": {},
   "outputs": [],
   "source": [
    "env = rodent_environments.rodent_mocap(kp_data)\n",
    "viewer.launch(env)"
   ]
  },
  {
   "cell_type": "code",
   "execution_count": null,
   "metadata": {},
   "outputs": [],
   "source": [
    "np.stack([np.array([1,2,3]),np.array([1,2,3])])"
   ]
  },
  {
   "cell_type": "code",
   "execution_count": 112,
   "metadata": {},
   "outputs": [
    {
     "name": "stderr",
     "output_type": "stream",
     "text": [
      "E0513 21:05:38.156582 140346327054144 util.py:312] Domain Explorer intercepted an environment error.\n",
      "Original message: list index out of range\n",
      "Domain Explorer intercepted an environment error.\n",
      "Original message: list index out of range\n",
      "Traceback:\n",
      "  File \"/home/diego/.envs/mujoco200_3.7/lib/python3.6/site-packages/dm_control/viewer/runtime.py\", line 246, in _step\n",
      "    self._time_step = self._env.step(action)\n",
      "  File \"/home/diego/.envs/mujoco200_3.7/lib/python3.6/site-packages/dm_control/composer/environment.py\", line 378, in step\n",
      "    self._hooks.after_step(self._physics_proxy, self._random_state)\n",
      "  File \"/home/diego/.envs/mujoco200_3.7/lib/python3.6/site-packages/dm_control/composer/environment.py\", line 158, in after_step\n",
      "    self._task.after_step(physics, random_state)\n",
      "  File \"/home/diego/code/olveczky/stac/rodent_environments.py\", line 198, in after_step\n",
      "    physics.named.data.qpos[:] = self.precomp_qpos[self.frame]\n",
      "E0513 21:06:38.024388 140346327054144 util.py:312] Domain Explorer intercepted an environment error.\n",
      "Original message: list index out of range\n",
      "Domain Explorer intercepted an environment error.\n",
      "Original message: list index out of range\n",
      "Traceback:\n",
      "  File \"/home/diego/.envs/mujoco200_3.7/lib/python3.6/site-packages/dm_control/viewer/runtime.py\", line 246, in _step\n",
      "    self._time_step = self._env.step(action)\n",
      "  File \"/home/diego/.envs/mujoco200_3.7/lib/python3.6/site-packages/dm_control/composer/environment.py\", line 378, in step\n",
      "    self._hooks.after_step(self._physics_proxy, self._random_state)\n",
      "  File \"/home/diego/.envs/mujoco200_3.7/lib/python3.6/site-packages/dm_control/composer/environment.py\", line 158, in after_step\n",
      "    self._task.after_step(physics, random_state)\n",
      "  File \"/home/diego/code/olveczky/stac/rodent_environments.py\", line 198, in after_step\n",
      "    physics.named.data.qpos[:] = self.precomp_qpos[self.frame]\n"
     ]
    }
   ],
   "source": [
    "viewer.launch(env)"
   ]
  },
  {
   "cell_type": "code",
   "execution_count": null,
   "metadata": {},
   "outputs": [],
   "source": [
    "env.task._walker.body_sites"
   ]
  },
  {
   "cell_type": "code",
   "execution_count": null,
   "metadata": {},
   "outputs": [],
   "source": [
    "print(env._task._arena.mjcf_model.worldbody.to_xml_string())"
   ]
  },
  {
   "cell_type": "code",
   "execution_count": null,
   "metadata": {},
   "outputs": [],
   "source": [
    "imp.reload(stac)\n",
    "rat = util.RatWithMocapSites(model_path, kp_data, kp_names)\n",
    "env = control.Environment(rat.physics, suite.rat.Rat(0), time_limit=20, n_sub_steps=100, **{})\n",
    "viewer.launch(env)"
   ]
  },
  {
   "cell_type": "code",
   "execution_count": null,
   "metadata": {},
   "outputs": [],
   "source": [
    "imp.reload(stac)\n",
    "rat = util.RatWithMocapSites(model_path, kp_data, kp_names)\n",
    "stac.m_phase(rat.physics, kp_data, rat.get_sites(), n_frames=50)\n",
    "env = control.Environment(rat.physics, suite.rat.Rat(0), time_limit=20, n_sub_steps=100, **{})\n",
    "viewer.launch(env)"
   ]
  },
  {
   "cell_type": "code",
   "execution_count": null,
   "metadata": {},
   "outputs": [],
   "source": [
    "env = control.Environment(rat.physics, suite.rat.Rat(0), time_limit=20, n_sub_steps=100, **{})\n",
    "viewer.launch(env)"
   ]
  },
  {
   "cell_type": "code",
   "execution_count": null,
   "metadata": {},
   "outputs": [],
   "source": [
    "env.physics.render()"
   ]
  },
  {
   "cell_type": "markdown",
   "metadata": {},
   "source": [
    "# Run q_phase on a set of frames"
   ]
  },
  {
   "cell_type": "code",
   "execution_count": null,
   "metadata": {},
   "outputs": [],
   "source": [
    "imp.reload(stac)\n",
    "def stac_im(physics, kp_data, frame, sites):\n",
    "    print(frame)\n",
    "    stac.q_phase(physics, kp_data[frame,:], frame, sites)\n",
    "    return physics.render(height=500,width=500)\n",
    "def stac_qpos(physics, kp_data, frame, sites):\n",
    "    print(frame)\n",
    "    stac.q_phase(physics, kp_data[frame,:], frame, sites)\n",
    "    retval = physics.named.data.qpos[:]\n",
    "    return retval.copy()\n",
    "V = [stac_im(env.physics, kp_data, frame, env.task._walker.body_sites) for frame in range(0,100,1)]"
   ]
  },
  {
   "cell_type": "code",
   "execution_count": null,
   "metadata": {},
   "outputs": [],
   "source": [
    "def stac_qpos(physics, kp_data, frame, sites):\n",
    "    if np.mod(frame, 10) == 0: print(frame)\n",
    "    stac.q_phase(physics, kp_data[frame,:], frame, sites, reg_coef=0.01)\n",
    "    retval = physics.named.data.qpos[:]\n",
    "    return retval.copy()\n",
    "Q = [stac_qpos(env.physics, kp_data, frame, env.task._walker.body_sites) for frame in range(0,1000,1)]"
   ]
  },
  {
   "cell_type": "code",
   "execution_count": null,
   "metadata": {},
   "outputs": [],
   "source": [
    "env.task.precomp_qpos = Q\n",
    "viewer.launch(env)"
   ]
  },
  {
   "cell_type": "markdown",
   "metadata": {},
   "source": [
    "# View the results"
   ]
  },
  {
   "cell_type": "code",
   "execution_count": null,
   "metadata": {},
   "outputs": [],
   "source": [
    "p = plt.figure()\n",
    "vid = plt.imshow(V[0])\n",
    "# initialization function: plot the background of each frame\n",
    "def init():\n",
    "    vid.set_data(V[0])\n",
    "    return (vid,)\n",
    "\n",
    "# animation function. This is called sequentially\n",
    "def animate(i):\n",
    "    vid.set_data(V[i])\n",
    "    return (vid,)\n",
    "anim = animation.FuncAnimation(p, animate, init_func=init,\n",
    "                               frames=100, interval=1, blit=True)\n"
   ]
  },
  {
   "cell_type": "code",
   "execution_count": null,
   "metadata": {},
   "outputs": [],
   "source": [
    "centered[0,:]"
   ]
  },
  {
   "cell_type": "markdown",
   "metadata": {},
   "source": [
    "# Stac pipeline"
   ]
  },
  {
   "cell_type": "code",
   "execution_count": null,
   "metadata": {},
   "outputs": [],
   "source": [
    "# env = suite.load(domain_name='rat', task_name='stand')\n",
    "# viewer.launch(env)\n",
    "imp.reload(util)\n",
    "# rat = util.RatWithMocapSites(model_path, kp_data, kp_names)\n",
    "env = control.Environment(rat.physics, suite.rat.Rat(0), time_limit=20, n_sub_steps=100, **{})\n",
    "viewer.launch(env)"
   ]
  },
  {
   "cell_type": "code",
   "execution_count": null,
   "metadata": {},
   "outputs": [],
   "source": [
    "env.action_spec()"
   ]
  },
  {
   "cell_type": "code",
   "execution_count": null,
   "metadata": {},
   "outputs": [],
   "source": [
    "viewer.launch(env)"
   ]
  },
  {
   "cell_type": "code",
   "execution_count": null,
   "metadata": {},
   "outputs": [],
   "source": [
    "env.__dict__"
   ]
  },
  {
   "cell_type": "code",
   "execution_count": null,
   "metadata": {},
   "outputs": [],
   "source": [
    "t = mjcf.RootElement()\n",
    "t.worldbody.add('site', type='sphere',size=[.1],rgba=\"1 0 0 1\",pos=[0,0,0])\n",
    "physics = mjcf.Physics.from_mjcf_model(t)\n",
    "env = control.Environment(physics, suite.rat.Rat(0), time_limit=20, n_sub_steps=100, **{})\n",
    "viewer.launch(env)"
   ]
  },
  {
   "cell_type": "code",
   "execution_count": null,
   "metadata": {},
   "outputs": [],
   "source": []
  },
  {
   "cell_type": "code",
   "execution_count": null,
   "metadata": {},
   "outputs": [],
   "source": [
    "imp.reload(stac)\n",
    "def par_q_phase(physics, kp_data, frame, sites, queue):\n",
    "    stac.q_phase(physics, kp_data, frame, sites)\n",
    "    queue.put(physics.render(height=500,width=500,camera_id='side'))\n",
    "output = mp.Queue()\n",
    "processes = [mp.Process(target=par_q_phase, args=(rat.physics, kp_data[frame,:], frame, rat.get_sites(), output)) \n",
    "             for frame in range(0,100,10)]\n",
    "\n",
    "for p in processes:\n",
    "    p.start()\n",
    "    \n",
    "for p in processes:\n",
    "    p.join()\n",
    "    \n",
    "results = [output.get() for p in processes]"
   ]
  }
 ],
 "metadata": {
  "kernelspec": {
   "display_name": "Python 3",
   "language": "python",
   "name": "python3"
  },
  "language_info": {
   "codemirror_mode": {
    "name": "ipython",
    "version": 3
   },
   "file_extension": ".py",
   "mimetype": "text/x-python",
   "name": "python",
   "nbconvert_exporter": "python",
   "pygments_lexer": "ipython3",
   "version": "3.6.7"
  }
 },
 "nbformat": 4,
 "nbformat_minor": 2
}
