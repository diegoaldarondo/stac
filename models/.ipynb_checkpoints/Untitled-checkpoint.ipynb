{
 "cells": [
  {
   "cell_type": "code",
   "execution_count": 30,
   "metadata": {},
   "outputs": [],
   "source": [
    "from dm_control import viewer\n",
    "from dm_control import mjcf\n",
    "from dm_control.mujoco.wrapper.mjbindings import mjlib\n",
    "import sys\n",
    "sys.path.append('/home/diego/code/olveczky/dm/stac/')\n",
    "import rodent_environments\n",
    "import util\n",
    "import numpy as np"
   ]
  },
  {
   "cell_type": "code",
   "execution_count": 33,
   "metadata": {},
   "outputs": [
    {
     "name": "stdout",
     "output_type": "stream",
     "text": [
      "Total mass is: 0.209088 kilograms\n"
     ]
    }
   ],
   "source": [
    "# Kp_data is just a placeholder, consider refactoring\n",
    "model_path = '/home/diego/code/olveczky/dm/stac/models/to_tune/rat_june26.xml'\n",
    "param_path = '/home/diego/code/olveczky/dm/stac/params/june26/JDM25.yaml'\n",
    "kp_data = np.zeros((100, 60))\n",
    "params = util.load_params(param_path)\n",
    "params['_XML_PATH'] = model_path\n",
    "params['n_frames'] = kp_data.shape[0]\n",
    "env = rodent_environments.rodent_mocap(kp_data, params)\n",
    "\n",
    "\n",
    "mass = mjlib.mj_getTotalmass(env.physics.model.ptr)\n",
    "print(\"Total mass is: %f kilograms\" % (mass))"
   ]
  }
 ],
 "metadata": {
  "kernelspec": {
   "display_name": "Python 3",
   "language": "python",
   "name": "python3"
  },
  "language_info": {
   "codemirror_mode": {
    "name": "ipython",
    "version": 3
   },
   "file_extension": ".py",
   "mimetype": "text/x-python",
   "name": "python",
   "nbconvert_exporter": "python",
   "pygments_lexer": "ipython3",
   "version": "3.6.7"
  }
 },
 "nbformat": 4,
 "nbformat_minor": 2
}
