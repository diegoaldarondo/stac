{
 "cells": [
  {
   "attachments": {},
   "cell_type": "markdown",
   "metadata": {},
   "source": [
    "# STAC (Simultaneous Tracking and Calibration) \n",
    "\n",
    "In this notebook, we will explore how STAC can register a biomechanical model of rats to 3D pose estimates obtained from DANNCE markerless pose estimation. This algorithm is designed to accurately track the movements of rats in three-dimensional space, which can be useful in a variety of research areas, including neuroscience, biophysics, and biomechanics.\n",
    "\n",
    "STAC is an algorithm that can simultaneously calibrate a biomechanical model to keypoints by learning from data. We will demonstrate the different steps in STAC, including configuration files, model calibration, tracking, and visualization."
   ]
  },
  {
   "cell_type": "code",
   "execution_count": null,
   "metadata": {},
   "outputs": [],
   "source": [
    "%load_ext autoreload\n",
    "%autoreload 2\n",
    "from stac import compute_stac, viz\n",
    "from IPython.display import Video\n",
    "import numpy as np\n",
    "from scipy.io import loadmat"
   ]
  },
  {
   "cell_type": "code",
   "execution_count": null,
   "metadata": {},
   "outputs": [],
   "source": [
    "data_path = \"data.mat\"\n",
    "param_path = \"../params/params.yaml\"\n",
    "offset_path = \"offset.p\"\n",
    "results_path = \"results.p\"\n",
    "n_fitting_frames = 500\n",
    "n_transform_frames = 1000\n",
    "\n",
    "# Load data and convert from millimeters to meters\n",
    "keypoints = loadmat(data_path)[\"pred\"][:] / 1000"
   ]
  },
  {
   "attachments": {},
   "cell_type": "markdown",
   "metadata": {},
   "source": [
    "# Calibration\n",
    "\n",
    "The calibration step is a crucial part of the STAC algorithm. It involves using a set of poses to calibrate the biomechanical model and determine the relationship between the model and the 3D pose estimates. This step ensures that the model accurately represents the movement of the rat. In this notebook, we will demonstrate how to `fit` the model using a short set of poses. While the original implementation of STAC called for joint optimization of tracking and calibration across the entire dataset, in practice we find that doing so on a small sample of data is sufficient. \n",
    "\n",
    "We recommend calibrating using approximately 500 contiguous samples (10 seconds at 50 Hz), which we will refer to as a trajectory. Calibrating this trajectory takes approximately 5 minutes on a Kaby Lake Xeon processor. If the calibration seems innacurate, it may help to select trajectories in which the animal is on all four limbs (if calibrating for rodents). "
   ]
  },
  {
   "cell_type": "code",
   "execution_count": null,
   "metadata": {},
   "outputs": [],
   "source": [
    "st = compute_stac.STAC(param_path)\n",
    "st = st.fit(keypoints[:n_fitting_frames])\n",
    "st.save(save_path=offset_path)"
   ]
  },
  {
   "attachments": {},
   "cell_type": "markdown",
   "metadata": {},
   "source": [
    "# Tracking\n",
    "\n",
    "Now that we have calibrated the biomechanical model, we can use `transform` to track the rat's movements in 3D space. The algorithm optimizes a cost function that balances the error between the predicted and observed keypoints, while also considering the dynamics of the rat's movement. In this notebook, we will demonstrate how to set up the tracking configuration, load the data, and run the optimization. We will also discuss how to fine-tune the tracking parameters to achieve the best possible results."
   ]
  },
  {
   "cell_type": "code",
   "execution_count": null,
   "metadata": {},
   "outputs": [],
   "source": [
    "data = st.transform(keypoints[:n_transform_frames], offset_path)\n",
    "st.save(save_path=results_path)"
   ]
  },
  {
   "attachments": {},
   "cell_type": "markdown",
   "metadata": {},
   "source": [
    "# Results\n",
    "\n",
    "You can render videos using stac's visualization tools. There are two major rendering options, `render_mujoco` and `render_overlay`. \n",
    "\n",
    "The `render_mujoco` option renders a video of the stac reconstruction as it appears in a user-specified camera in MuJoCo. \n",
    "\n",
    "The `render_overlay` option grabs a user-specified rgb video and overlays a rendering of the skeletal model in mujoco from the perspective of the camera from which the video was taken. This is convenient to compare the skeletal registration with the pose of the real animal. "
   ]
  },
  {
   "cell_type": "code",
   "execution_count": null,
   "metadata": {},
   "outputs": [],
   "source": [
    "save_path = \"mujoco_video.mp4\"\n",
    "viz.render_mujoco(\n",
    "    param_path,\n",
    "    results_path,\n",
    "    save_path,\n",
    "    frames = np.arange(n_transform_frames),\n",
    ")\n",
    "Video(save_path)"
   ]
  },
  {
   "attachments": {},
   "cell_type": "markdown",
   "metadata": {},
   "source": [
    "You can use `render_overlay` to render a video of the stac reconstruction on top of your original images.  "
   ]
  },
  {
   "cell_type": "code",
   "execution_count": null,
   "metadata": {},
   "outputs": [],
   "source": [
    "save_path = \"overlay_video.mp4\"\n",
    "calibration_path = 'calibration.mat'\n",
    "video_path = './videos/Camera2/0.mp4'\n",
    "viz.render_overlay(\n",
    "    param_path,\n",
    "    video_path,\n",
    "    results_path,\n",
    "    save_path,\n",
    "    frames=np.arange(n_transform_frames),\n",
    "    camera=\"Camera2\",\n",
    "    calibration_path=calibration_path,\n",
    "    segmented=True\n",
    "    )\n",
    "Video(save_path)"
   ]
  }
 ],
 "metadata": {
  "kernelspec": {
   "display_name": "mujoco210_3.7",
   "language": "python",
   "name": "python3"
  },
  "language_info": {
   "codemirror_mode": {
    "name": "ipython",
    "version": 3
   },
   "file_extension": ".py",
   "mimetype": "text/x-python",
   "name": "python",
   "nbconvert_exporter": "python",
   "pygments_lexer": "ipython3",
   "version": "3.6.8"
  },
  "orig_nbformat": 4
 },
 "nbformat": 4,
 "nbformat_minor": 2
}
