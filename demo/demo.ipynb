{
 "cells": [
  {
   "attachments": {},
   "cell_type": "markdown",
   "metadata": {},
   "source": [
    "# STAC (Simultaneous Tracking and Calibration) \n",
    "\n",
    "In this notebook, we will explore how STAC can register a biomechanical model of rats to 3D pose estimates obtained from DANNCE markerless pose estimation. This algorithm is designed to accurately track the movements of rats in three-dimensional space, which can be incredibly useful in a variety of research areas, including neuroscience, biophysics, and biomechanics.\n",
    "\n",
    "STAC is an algorithm that can simultaneously calibrate a biomechanical model to keypoints and  by learning from data. Throughout this notebook, we will walk through the steps of implementing STAC, including configuration files, model calibration, and tracking. We will also discuss the theory behind the algorithm and how it works to accurately register a biomechanical model to 3D pose estimates."
   ]
  },
  {
   "cell_type": "code",
   "execution_count": 25,
   "metadata": {},
   "outputs": [],
   "source": [
    "from stac import compute_stac, view_stac, viz"
   ]
  },
  {
   "cell_type": "code",
   "execution_count": 26,
   "metadata": {},
   "outputs": [],
   "source": [
    "data_path = \"data.mat\"\n",
    "param_path = \"params.yaml\"\n",
    "offset_path = \"offset.p\"\n",
    "results_path = \"results.p\"\n",
    "start_frame = 0\n",
    "end_frame_fitting = start_frame + 10 # 2 seconds of data at 50 fps\n",
    "end_frame_transform = start_frame + 500 # 10 seconds of data at 50 fps"
   ]
  },
  {
   "attachments": {},
   "cell_type": "markdown",
   "metadata": {},
   "source": [
    "# Calibration\n",
    "\n",
    "\n",
    "\n",
    "The calibration step is a crucial part of the STAC algorithm. It involves using a set of poses to calibrate the biomechanical model and determine the relationship between the model and the 3D pose estimates. This step ensures that the model accurately represents the movement of the rat. In this notebook, we will demonstrate how to `fit` the model using a short set of poses. While the original implementation of STAC called for joint optimization of tracking and calibration across the entire dataset, in practice we find that doing so on a small sample of data is sufficient. "
   ]
  },
  {
   "cell_type": "code",
   "execution_count": 27,
   "metadata": {},
   "outputs": [],
   "source": [
    "st = compute_stac.STAC(\n",
    "    data_path,\n",
    "    param_path,\n",
    "    start_frame=start_frame,\n",
    "    end_frame=end_frame_fitting)\n",
    "st.fit().save(save_path=offset_path)"
   ]
  },
  {
   "attachments": {},
   "cell_type": "markdown",
   "metadata": {},
   "source": [
    "# Tracking\n",
    "\n",
    "Now that we have calibrated the biomechanical model, we can use `transform` to track the rat's movements in 3D space. The algorithm optimizes a cost function that balances the error between the predicted and observed keypoints, while also considering the dynamics of the rat's movement. In this notebook, we will demonstrate how to set up the tracking configuration, load the data, and run the optimization. We will also discuss how to fine-tune the tracking parameters to achieve the best possible results."
   ]
  },
  {
   "cell_type": "code",
   "execution_count": 28,
   "metadata": {},
   "outputs": [],
   "source": [
    "st.end_frame = end_frame_transform\n",
    "data = st.transform(offset_path)\n",
    "st.save(save_path=results_path)\n"
   ]
  }
 ],
 "metadata": {
  "kernelspec": {
   "display_name": "mujoco210_3.7",
   "language": "python",
   "name": "python3"
  },
  "language_info": {
   "name": "python",
   "version": "3.6.8"
  },
  "orig_nbformat": 4
 },
 "nbformat": 4,
 "nbformat_minor": 2
}
